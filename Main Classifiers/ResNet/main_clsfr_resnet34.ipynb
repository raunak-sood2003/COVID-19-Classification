{
 "cells": [
  {
   "cell_type": "code",
   "execution_count": 1,
   "metadata": {},
   "outputs": [],
   "source": [
    "from CT_COVID_Preprocess import CTCOVIDDataset\n",
    "from model_tools import validation, train, load_model_checkpoint\n",
    "from eval_tools import VGG19_CAM\n",
    "from eval_tools import plot_train_val, test, display_FP_FN, get_confusion_matrix, plot_ROCAUC_curve, showCAM\n",
    "from custom_model import CNN_COVIDCT\n",
    "import torch\n",
    "import torchvision\n",
    "import torch.optim as optim\n",
    "from monai.transforms import Compose, LoadPNG, AddChannel, ScaleIntensity, ToTensor, RandRotate, RandFlip, RandZoom, Resize, RandGaussianNoise\n",
    "import torch.nn.functional as F\n",
    "import torch.nn as nn\n",
    "from torch.utils.data import DataLoader\n",
    "from collections import OrderedDict\n",
    "from torchvision import transforms"
   ]
  },
  {
   "cell_type": "code",
   "execution_count": 2,
   "metadata": {},
   "outputs": [],
   "source": [
    "device = torch.device(\"cuda:0\" if torch.cuda.is_available() else \"cpu\")"
   ]
  },
  {
   "cell_type": "code",
   "execution_count": 3,
   "metadata": {},
   "outputs": [],
   "source": [
    "dirCOVID = 'C:/Users/rrsoo/AdvancedStuff/Medical_AI/Classifier/Images-processed-new/CT_COVID'\n",
    "dirNonCOVID = 'C:/Users/rrsoo/AdvancedStuff/Medical_AI/Classifier/Images-processed-new/CT_NonCOVID'"
   ]
  },
  {
   "cell_type": "code",
   "execution_count": 4,
   "metadata": {},
   "outputs": [],
   "source": [
    "train_transforms = transforms.Compose([\n",
    "        LoadPNG(),\n",
    "        AddChannel(),\n",
    "        ScaleIntensity(),\n",
    "        RandRotate(degrees=15, prob=0.5),\n",
    "        RandFlip(spatial_axis=0, prob=0.5),\n",
    "        RandZoom(min_zoom=0.9, max_zoom=1.1, prob=0.5),\n",
    "        RandGaussianNoise(prob = 0.5),\n",
    "        Resize(spatial_size=(224, 224)),\n",
    "        ToTensor()\n",
    "    ])\n",
    "   \n",
    "\n",
    "val_transforms = transforms.Compose([\n",
    "    LoadPNG(),\n",
    "    AddChannel(),\n",
    "    ScaleIntensity(),\n",
    "    ToTensor()\n",
    "])"
   ]
  },
  {
   "cell_type": "code",
   "execution_count": 5,
   "metadata": {},
   "outputs": [
    {
     "name": "stderr",
     "output_type": "stream",
     "text": [
      "100%|██████████| 397/397 [00:00<00:00, 476.13it/s]\n",
      "100%|██████████| 346/346 [00:01<00:00, 328.84it/s]\n",
      "100%|██████████| 397/397 [00:00<00:00, 477.27it/s]\n",
      "100%|██████████| 346/346 [00:01<00:00, 328.84it/s]\n",
      "100%|██████████| 397/397 [00:00<00:00, 463.38it/s]\n",
      "100%|██████████| 346/346 [00:01<00:00, 324.84it/s]\n"
     ]
    }
   ],
   "source": [
    "BATCH_SIZE = 32\n",
    "ORIG_RES = False\n",
    "\n",
    "train_ds = CTCOVIDDataset(dirCOVID, dirNonCOVID, transforms = train_transforms, data = 'train', orig_res = ORIG_RES)\n",
    "train_loader = DataLoader(train_ds, batch_size=BATCH_SIZE, shuffle=True)\n",
    "\n",
    "val_ds = CTCOVIDDataset(dirCOVID, dirNonCOVID, transforms = val_transforms, data = 'val', orig_res = ORIG_RES)\n",
    "val_loader = DataLoader(val_ds, batch_size=BATCH_SIZE, shuffle=True)\n",
    "\n",
    "test_ds = CTCOVIDDataset(dirCOVID, dirNonCOVID, transforms = val_transforms, data = 'test', orig_res = ORIG_RES)\n",
    "test_loader = DataLoader(test_ds, batch_size=BATCH_SIZE, shuffle=True)"
   ]
  },
  {
   "cell_type": "code",
   "execution_count": 6,
   "metadata": {},
   "outputs": [
    {
     "name": "stdout",
     "output_type": "stream",
     "text": [
      "ResNet(\n",
      "  (conv1): Conv2d(3, 64, kernel_size=(7, 7), stride=(2, 2), padding=(3, 3), bias=False)\n",
      "  (bn1): BatchNorm2d(64, eps=1e-05, momentum=0.1, affine=True, track_running_stats=True)\n",
      "  (relu): ReLU(inplace=True)\n",
      "  (maxpool): MaxPool2d(kernel_size=3, stride=2, padding=1, dilation=1, ceil_mode=False)\n",
      "  (layer1): Sequential(\n",
      "    (0): BasicBlock(\n",
      "      (conv1): Conv2d(64, 64, kernel_size=(3, 3), stride=(1, 1), padding=(1, 1), bias=False)\n",
      "      (bn1): BatchNorm2d(64, eps=1e-05, momentum=0.1, affine=True, track_running_stats=True)\n",
      "      (relu): ReLU(inplace=True)\n",
      "      (conv2): Conv2d(64, 64, kernel_size=(3, 3), stride=(1, 1), padding=(1, 1), bias=False)\n",
      "      (bn2): BatchNorm2d(64, eps=1e-05, momentum=0.1, affine=True, track_running_stats=True)\n",
      "    )\n",
      "    (1): BasicBlock(\n",
      "      (conv1): Conv2d(64, 64, kernel_size=(3, 3), stride=(1, 1), padding=(1, 1), bias=False)\n",
      "      (bn1): BatchNorm2d(64, eps=1e-05, momentum=0.1, affine=True, track_running_stats=True)\n",
      "      (relu): ReLU(inplace=True)\n",
      "      (conv2): Conv2d(64, 64, kernel_size=(3, 3), stride=(1, 1), padding=(1, 1), bias=False)\n",
      "      (bn2): BatchNorm2d(64, eps=1e-05, momentum=0.1, affine=True, track_running_stats=True)\n",
      "    )\n",
      "    (2): BasicBlock(\n",
      "      (conv1): Conv2d(64, 64, kernel_size=(3, 3), stride=(1, 1), padding=(1, 1), bias=False)\n",
      "      (bn1): BatchNorm2d(64, eps=1e-05, momentum=0.1, affine=True, track_running_stats=True)\n",
      "      (relu): ReLU(inplace=True)\n",
      "      (conv2): Conv2d(64, 64, kernel_size=(3, 3), stride=(1, 1), padding=(1, 1), bias=False)\n",
      "      (bn2): BatchNorm2d(64, eps=1e-05, momentum=0.1, affine=True, track_running_stats=True)\n",
      "    )\n",
      "  )\n",
      "  (layer2): Sequential(\n",
      "    (0): BasicBlock(\n",
      "      (conv1): Conv2d(64, 128, kernel_size=(3, 3), stride=(2, 2), padding=(1, 1), bias=False)\n",
      "      (bn1): BatchNorm2d(128, eps=1e-05, momentum=0.1, affine=True, track_running_stats=True)\n",
      "      (relu): ReLU(inplace=True)\n",
      "      (conv2): Conv2d(128, 128, kernel_size=(3, 3), stride=(1, 1), padding=(1, 1), bias=False)\n",
      "      (bn2): BatchNorm2d(128, eps=1e-05, momentum=0.1, affine=True, track_running_stats=True)\n",
      "      (downsample): Sequential(\n",
      "        (0): Conv2d(64, 128, kernel_size=(1, 1), stride=(2, 2), bias=False)\n",
      "        (1): BatchNorm2d(128, eps=1e-05, momentum=0.1, affine=True, track_running_stats=True)\n",
      "      )\n",
      "    )\n",
      "    (1): BasicBlock(\n",
      "      (conv1): Conv2d(128, 128, kernel_size=(3, 3), stride=(1, 1), padding=(1, 1), bias=False)\n",
      "      (bn1): BatchNorm2d(128, eps=1e-05, momentum=0.1, affine=True, track_running_stats=True)\n",
      "      (relu): ReLU(inplace=True)\n",
      "      (conv2): Conv2d(128, 128, kernel_size=(3, 3), stride=(1, 1), padding=(1, 1), bias=False)\n",
      "      (bn2): BatchNorm2d(128, eps=1e-05, momentum=0.1, affine=True, track_running_stats=True)\n",
      "    )\n",
      "    (2): BasicBlock(\n",
      "      (conv1): Conv2d(128, 128, kernel_size=(3, 3), stride=(1, 1), padding=(1, 1), bias=False)\n",
      "      (bn1): BatchNorm2d(128, eps=1e-05, momentum=0.1, affine=True, track_running_stats=True)\n",
      "      (relu): ReLU(inplace=True)\n",
      "      (conv2): Conv2d(128, 128, kernel_size=(3, 3), stride=(1, 1), padding=(1, 1), bias=False)\n",
      "      (bn2): BatchNorm2d(128, eps=1e-05, momentum=0.1, affine=True, track_running_stats=True)\n",
      "    )\n",
      "    (3): BasicBlock(\n",
      "      (conv1): Conv2d(128, 128, kernel_size=(3, 3), stride=(1, 1), padding=(1, 1), bias=False)\n",
      "      (bn1): BatchNorm2d(128, eps=1e-05, momentum=0.1, affine=True, track_running_stats=True)\n",
      "      (relu): ReLU(inplace=True)\n",
      "      (conv2): Conv2d(128, 128, kernel_size=(3, 3), stride=(1, 1), padding=(1, 1), bias=False)\n",
      "      (bn2): BatchNorm2d(128, eps=1e-05, momentum=0.1, affine=True, track_running_stats=True)\n",
      "    )\n",
      "  )\n",
      "  (layer3): Sequential(\n",
      "    (0): BasicBlock(\n",
      "      (conv1): Conv2d(128, 256, kernel_size=(3, 3), stride=(2, 2), padding=(1, 1), bias=False)\n",
      "      (bn1): BatchNorm2d(256, eps=1e-05, momentum=0.1, affine=True, track_running_stats=True)\n",
      "      (relu): ReLU(inplace=True)\n",
      "      (conv2): Conv2d(256, 256, kernel_size=(3, 3), stride=(1, 1), padding=(1, 1), bias=False)\n",
      "      (bn2): BatchNorm2d(256, eps=1e-05, momentum=0.1, affine=True, track_running_stats=True)\n",
      "      (downsample): Sequential(\n",
      "        (0): Conv2d(128, 256, kernel_size=(1, 1), stride=(2, 2), bias=False)\n",
      "        (1): BatchNorm2d(256, eps=1e-05, momentum=0.1, affine=True, track_running_stats=True)\n",
      "      )\n",
      "    )\n",
      "    (1): BasicBlock(\n",
      "      (conv1): Conv2d(256, 256, kernel_size=(3, 3), stride=(1, 1), padding=(1, 1), bias=False)\n",
      "      (bn1): BatchNorm2d(256, eps=1e-05, momentum=0.1, affine=True, track_running_stats=True)\n",
      "      (relu): ReLU(inplace=True)\n",
      "      (conv2): Conv2d(256, 256, kernel_size=(3, 3), stride=(1, 1), padding=(1, 1), bias=False)\n",
      "      (bn2): BatchNorm2d(256, eps=1e-05, momentum=0.1, affine=True, track_running_stats=True)\n",
      "    )\n",
      "    (2): BasicBlock(\n",
      "      (conv1): Conv2d(256, 256, kernel_size=(3, 3), stride=(1, 1), padding=(1, 1), bias=False)\n",
      "      (bn1): BatchNorm2d(256, eps=1e-05, momentum=0.1, affine=True, track_running_stats=True)\n",
      "      (relu): ReLU(inplace=True)\n",
      "      (conv2): Conv2d(256, 256, kernel_size=(3, 3), stride=(1, 1), padding=(1, 1), bias=False)\n",
      "      (bn2): BatchNorm2d(256, eps=1e-05, momentum=0.1, affine=True, track_running_stats=True)\n",
      "    )\n",
      "    (3): BasicBlock(\n",
      "      (conv1): Conv2d(256, 256, kernel_size=(3, 3), stride=(1, 1), padding=(1, 1), bias=False)\n",
      "      (bn1): BatchNorm2d(256, eps=1e-05, momentum=0.1, affine=True, track_running_stats=True)\n",
      "      (relu): ReLU(inplace=True)\n",
      "      (conv2): Conv2d(256, 256, kernel_size=(3, 3), stride=(1, 1), padding=(1, 1), bias=False)\n",
      "      (bn2): BatchNorm2d(256, eps=1e-05, momentum=0.1, affine=True, track_running_stats=True)\n",
      "    )\n",
      "    (4): BasicBlock(\n",
      "      (conv1): Conv2d(256, 256, kernel_size=(3, 3), stride=(1, 1), padding=(1, 1), bias=False)\n",
      "      (bn1): BatchNorm2d(256, eps=1e-05, momentum=0.1, affine=True, track_running_stats=True)\n",
      "      (relu): ReLU(inplace=True)\n",
      "      (conv2): Conv2d(256, 256, kernel_size=(3, 3), stride=(1, 1), padding=(1, 1), bias=False)\n",
      "      (bn2): BatchNorm2d(256, eps=1e-05, momentum=0.1, affine=True, track_running_stats=True)\n",
      "    )\n",
      "    (5): BasicBlock(\n",
      "      (conv1): Conv2d(256, 256, kernel_size=(3, 3), stride=(1, 1), padding=(1, 1), bias=False)\n",
      "      (bn1): BatchNorm2d(256, eps=1e-05, momentum=0.1, affine=True, track_running_stats=True)\n",
      "      (relu): ReLU(inplace=True)\n",
      "      (conv2): Conv2d(256, 256, kernel_size=(3, 3), stride=(1, 1), padding=(1, 1), bias=False)\n",
      "      (bn2): BatchNorm2d(256, eps=1e-05, momentum=0.1, affine=True, track_running_stats=True)\n",
      "    )\n",
      "  )\n",
      "  (layer4): Sequential(\n",
      "    (0): BasicBlock(\n",
      "      (conv1): Conv2d(256, 512, kernel_size=(3, 3), stride=(2, 2), padding=(1, 1), bias=False)\n",
      "      (bn1): BatchNorm2d(512, eps=1e-05, momentum=0.1, affine=True, track_running_stats=True)\n",
      "      (relu): ReLU(inplace=True)\n",
      "      (conv2): Conv2d(512, 512, kernel_size=(3, 3), stride=(1, 1), padding=(1, 1), bias=False)\n",
      "      (bn2): BatchNorm2d(512, eps=1e-05, momentum=0.1, affine=True, track_running_stats=True)\n",
      "      (downsample): Sequential(\n",
      "        (0): Conv2d(256, 512, kernel_size=(1, 1), stride=(2, 2), bias=False)\n",
      "        (1): BatchNorm2d(512, eps=1e-05, momentum=0.1, affine=True, track_running_stats=True)\n",
      "      )\n",
      "    )\n",
      "    (1): BasicBlock(\n",
      "      (conv1): Conv2d(512, 512, kernel_size=(3, 3), stride=(1, 1), padding=(1, 1), bias=False)\n",
      "      (bn1): BatchNorm2d(512, eps=1e-05, momentum=0.1, affine=True, track_running_stats=True)\n",
      "      (relu): ReLU(inplace=True)\n",
      "      (conv2): Conv2d(512, 512, kernel_size=(3, 3), stride=(1, 1), padding=(1, 1), bias=False)\n",
      "      (bn2): BatchNorm2d(512, eps=1e-05, momentum=0.1, affine=True, track_running_stats=True)\n",
      "    )\n",
      "    (2): BasicBlock(\n",
      "      (conv1): Conv2d(512, 512, kernel_size=(3, 3), stride=(1, 1), padding=(1, 1), bias=False)\n",
      "      (bn1): BatchNorm2d(512, eps=1e-05, momentum=0.1, affine=True, track_running_stats=True)\n",
      "      (relu): ReLU(inplace=True)\n",
      "      (conv2): Conv2d(512, 512, kernel_size=(3, 3), stride=(1, 1), padding=(1, 1), bias=False)\n",
      "      (bn2): BatchNorm2d(512, eps=1e-05, momentum=0.1, affine=True, track_running_stats=True)\n",
      "    )\n",
      "  )\n",
      "  (avgpool): AdaptiveAvgPool2d(output_size=(1, 1))\n",
      "  (fc): Sequential(\n",
      "    (fc1): Linear(in_features=512, out_features=256, bias=True)\n",
      "    (activation1): ReLU()\n",
      "    (fc2): Linear(in_features=256, out_features=128, bias=True)\n",
      "    (activation2): ReLU()\n",
      "    (fc3): Linear(in_features=128, out_features=2, bias=True)\n",
      "    (out): Sigmoid()\n",
      "  )\n",
      ")\n"
     ]
    }
   ],
   "source": [
    "model_name = 'resnet34' #changeable\n",
    "PRETRAINED = True #changeable\n",
    "\n",
    "model = None #Don't touch\n",
    "\n",
    "if model_name == 'resnet34':\n",
    "    model = torchvision.models.resnet34(pretrained = PRETRAINED).to(device)\n",
    "    \n",
    "    if PRETRAINED:\n",
    "        for param in model.parameters():\n",
    "            param.requires_grad = False\n",
    "            \n",
    "    layers_resnet = nn.Sequential(OrderedDict([\n",
    "                ('fc1', nn.Linear(512, 256)),\n",
    "                ('activation1', nn.ReLU()),\n",
    "                ('fc2', nn.Linear(256, 128)),\n",
    "                ('activation2', nn.ReLU()),\n",
    "                ('fc3', nn.Linear(128, 2)),\n",
    "                ('out', nn.Sigmoid())\n",
    "            ])).to(device)\n",
    "    \n",
    "    model.fc = layers_resnet\n",
    "\n",
    "assert(model is not None)\n",
    "print(model)"
   ]
  },
  {
   "cell_type": "code",
   "execution_count": 7,
   "metadata": {},
   "outputs": [
    {
     "name": "stderr",
     "output_type": "stream",
     "text": [
      "100%|██████████| 19/19 [00:03<00:00,  4.97it/s]\n",
      "100%|██████████| 3/3 [00:00<00:00,  8.90it/s]\n",
      "  5%|▌         | 1/19 [00:00<00:02,  6.57it/s]"
     ]
    },
    {
     "name": "stdout",
     "output_type": "stream",
     "text": [
      "Training Loss: 13.034444749355316\n",
      "Training Accuracy: 0.5260504201680672\n",
      "Validation Loss: 2.0720869302749634\n",
      "Validation Accuracy: 0.527027027027027\n"
     ]
    },
    {
     "name": "stderr",
     "output_type": "stream",
     "text": [
      "100%|██████████| 19/19 [00:02<00:00,  6.67it/s]\n",
      "100%|██████████| 3/3 [00:00<00:00,  8.87it/s]\n",
      "  5%|▌         | 1/19 [00:00<00:02,  6.60it/s]"
     ]
    },
    {
     "name": "stdout",
     "output_type": "stream",
     "text": [
      "Training Loss: 12.409207582473755\n",
      "Training Accuracy: 0.6033613445378151\n",
      "Validation Loss: 1.969240963459015\n",
      "Validation Accuracy: 0.6081081081081081\n"
     ]
    },
    {
     "name": "stderr",
     "output_type": "stream",
     "text": [
      "100%|██████████| 19/19 [00:02<00:00,  6.65it/s]\n",
      "100%|██████████| 3/3 [00:00<00:00,  8.87it/s]\n",
      "  5%|▌         | 1/19 [00:00<00:02,  6.55it/s]"
     ]
    },
    {
     "name": "stdout",
     "output_type": "stream",
     "text": [
      "Training Loss: 11.463574707508087\n",
      "Training Accuracy: 0.719327731092437\n",
      "Validation Loss: 1.7630200386047363\n",
      "Validation Accuracy: 0.7297297297297297\n"
     ]
    },
    {
     "name": "stderr",
     "output_type": "stream",
     "text": [
      "100%|██████████| 19/19 [00:02<00:00,  6.64it/s]\n",
      "100%|██████████| 3/3 [00:00<00:00,  8.85it/s]\n",
      "  5%|▌         | 1/19 [00:00<00:02,  6.51it/s]"
     ]
    },
    {
     "name": "stdout",
     "output_type": "stream",
     "text": [
      "Training Loss: 10.535346299409866\n",
      "Training Accuracy: 0.7563025210084033\n",
      "Validation Loss: 1.5425951182842255\n",
      "Validation Accuracy: 0.7837837837837838\n"
     ]
    },
    {
     "name": "stderr",
     "output_type": "stream",
     "text": [
      "100%|██████████| 19/19 [00:02<00:00,  6.63it/s]\n",
      "100%|██████████| 3/3 [00:00<00:00,  8.74it/s]\n",
      "  5%|▌         | 1/19 [00:00<00:02,  6.60it/s]"
     ]
    },
    {
     "name": "stdout",
     "output_type": "stream",
     "text": [
      "Training Loss: 10.198698043823242\n",
      "Training Accuracy: 0.7663865546218488\n",
      "Validation Loss: 1.62639981508255\n",
      "Validation Accuracy: 0.7162162162162162\n"
     ]
    },
    {
     "name": "stderr",
     "output_type": "stream",
     "text": [
      "100%|██████████| 19/19 [00:02<00:00,  6.62it/s]\n",
      "100%|██████████| 3/3 [00:00<00:00,  8.82it/s]\n",
      "  5%|▌         | 1/19 [00:00<00:02,  6.51it/s]"
     ]
    },
    {
     "name": "stdout",
     "output_type": "stream",
     "text": [
      "Training Loss: 9.612675935029984\n",
      "Training Accuracy: 0.8134453781512605\n",
      "Validation Loss: 1.4094567596912384\n",
      "Validation Accuracy: 0.8648648648648649\n"
     ]
    },
    {
     "name": "stderr",
     "output_type": "stream",
     "text": [
      "100%|██████████| 19/19 [00:02<00:00,  6.64it/s]\n",
      "100%|██████████| 3/3 [00:00<00:00,  8.82it/s]\n",
      "  5%|▌         | 1/19 [00:00<00:02,  6.60it/s]"
     ]
    },
    {
     "name": "stdout",
     "output_type": "stream",
     "text": [
      "Training Loss: 9.894443899393082\n",
      "Training Accuracy: 0.7697478991596639\n",
      "Validation Loss: 1.5214513540267944\n",
      "Validation Accuracy: 0.7837837837837838\n"
     ]
    },
    {
     "name": "stderr",
     "output_type": "stream",
     "text": [
      "100%|██████████| 19/19 [00:02<00:00,  6.62it/s]\n",
      "100%|██████████| 3/3 [00:00<00:00,  8.82it/s]\n",
      "  5%|▌         | 1/19 [00:00<00:02,  6.55it/s]"
     ]
    },
    {
     "name": "stdout",
     "output_type": "stream",
     "text": [
      "Training Loss: 9.713624984025955\n",
      "Training Accuracy: 0.7781512605042017\n",
      "Validation Loss: 1.466100662946701\n",
      "Validation Accuracy: 0.8378378378378378\n"
     ]
    },
    {
     "name": "stderr",
     "output_type": "stream",
     "text": [
      "100%|██████████| 19/19 [00:02<00:00,  6.61it/s]\n",
      "100%|██████████| 3/3 [00:00<00:00,  8.80it/s]\n",
      "  5%|▌         | 1/19 [00:00<00:02,  6.60it/s]"
     ]
    },
    {
     "name": "stdout",
     "output_type": "stream",
     "text": [
      "Training Loss: 9.375973969697952\n",
      "Training Accuracy: 0.8134453781512605\n",
      "Validation Loss: 1.380761295557022\n",
      "Validation Accuracy: 0.8378378378378378\n"
     ]
    },
    {
     "name": "stderr",
     "output_type": "stream",
     "text": [
      "100%|██████████| 19/19 [00:02<00:00,  6.62it/s]\n",
      "100%|██████████| 3/3 [00:00<00:00,  8.72it/s]\n",
      "  5%|▌         | 1/19 [00:00<00:02,  6.55it/s]"
     ]
    },
    {
     "name": "stdout",
     "output_type": "stream",
     "text": [
      "Training Loss: 9.384544312953949\n",
      "Training Accuracy: 0.8033613445378152\n",
      "Validation Loss: 1.4797623753547668\n",
      "Validation Accuracy: 0.8243243243243243\n"
     ]
    },
    {
     "name": "stderr",
     "output_type": "stream",
     "text": [
      "100%|██████████| 19/19 [00:02<00:00,  6.63it/s]\n",
      "100%|██████████| 3/3 [00:00<00:00,  8.77it/s]\n",
      "  5%|▌         | 1/19 [00:00<00:02,  6.55it/s]"
     ]
    },
    {
     "name": "stdout",
     "output_type": "stream",
     "text": [
      "Training Loss: 9.331850230693817\n",
      "Training Accuracy: 0.8151260504201681\n",
      "Validation Loss: 1.3515446186065674\n",
      "Validation Accuracy: 0.8918918918918919\n"
     ]
    },
    {
     "name": "stderr",
     "output_type": "stream",
     "text": [
      "100%|██████████| 19/19 [00:02<00:00,  6.59it/s]\n",
      "100%|██████████| 3/3 [00:00<00:00,  8.87it/s]\n",
      "  5%|▌         | 1/19 [00:00<00:02,  6.60it/s]"
     ]
    },
    {
     "name": "stdout",
     "output_type": "stream",
     "text": [
      "Training Loss: 9.394055277109146\n",
      "Training Accuracy: 0.8184873949579832\n",
      "Validation Loss: 1.4652563631534576\n",
      "Validation Accuracy: 0.8783783783783784\n"
     ]
    },
    {
     "name": "stderr",
     "output_type": "stream",
     "text": [
      "100%|██████████| 19/19 [00:02<00:00,  6.64it/s]\n",
      "100%|██████████| 3/3 [00:00<00:00,  8.82it/s]\n",
      "  5%|▌         | 1/19 [00:00<00:02,  6.55it/s]"
     ]
    },
    {
     "name": "stdout",
     "output_type": "stream",
     "text": [
      "Training Loss: 9.340785533189774\n",
      "Training Accuracy: 0.8100840336134454\n",
      "Validation Loss: 1.3532218039035797\n",
      "Validation Accuracy: 0.8783783783783784\n"
     ]
    },
    {
     "name": "stderr",
     "output_type": "stream",
     "text": [
      "100%|██████████| 19/19 [00:02<00:00,  6.63it/s]\n",
      "100%|██████████| 3/3 [00:00<00:00,  8.77it/s]\n",
      "  5%|▌         | 1/19 [00:00<00:02,  6.43it/s]"
     ]
    },
    {
     "name": "stdout",
     "output_type": "stream",
     "text": [
      "Training Loss: 8.748438984155655\n",
      "Training Accuracy: 0.8504201680672269\n",
      "Validation Loss: 1.2937892973423004\n",
      "Validation Accuracy: 0.8513513513513513\n"
     ]
    },
    {
     "name": "stderr",
     "output_type": "stream",
     "text": [
      "100%|██████████| 19/19 [00:02<00:00,  6.60it/s]\n",
      "100%|██████████| 3/3 [00:00<00:00,  8.64it/s]\n",
      "  5%|▌         | 1/19 [00:00<00:02,  6.60it/s]"
     ]
    },
    {
     "name": "stdout",
     "output_type": "stream",
     "text": [
      "Training Loss: 8.48038199543953\n",
      "Training Accuracy: 0.865546218487395\n",
      "Validation Loss: 1.31028813123703\n",
      "Validation Accuracy: 0.8783783783783784\n"
     ]
    },
    {
     "name": "stderr",
     "output_type": "stream",
     "text": [
      "100%|██████████| 19/19 [00:02<00:00,  6.63it/s]\n",
      "100%|██████████| 3/3 [00:00<00:00,  8.74it/s]\n",
      "  5%|▌         | 1/19 [00:00<00:02,  6.60it/s]"
     ]
    },
    {
     "name": "stdout",
     "output_type": "stream",
     "text": [
      "Training Loss: 8.779923766851425\n",
      "Training Accuracy: 0.853781512605042\n",
      "Validation Loss: 1.529621034860611\n",
      "Validation Accuracy: 0.7972972972972973\n"
     ]
    },
    {
     "name": "stderr",
     "output_type": "stream",
     "text": [
      "100%|██████████| 19/19 [00:02<00:00,  6.61it/s]\n",
      "100%|██████████| 3/3 [00:00<00:00,  8.59it/s]\n",
      "  5%|▌         | 1/19 [00:00<00:02,  6.55it/s]"
     ]
    },
    {
     "name": "stdout",
     "output_type": "stream",
     "text": [
      "Training Loss: 8.730936884880066\n",
      "Training Accuracy: 0.8571428571428571\n",
      "Validation Loss: 1.2050215303897858\n",
      "Validation Accuracy: 0.8918918918918919\n"
     ]
    },
    {
     "name": "stderr",
     "output_type": "stream",
     "text": [
      "100%|██████████| 19/19 [00:02<00:00,  6.61it/s]\n",
      "100%|██████████| 3/3 [00:00<00:00,  8.77it/s]\n",
      "  5%|▌         | 1/19 [00:00<00:02,  6.51it/s]"
     ]
    },
    {
     "name": "stdout",
     "output_type": "stream",
     "text": [
      "Training Loss: 8.798154294490814\n",
      "Training Accuracy: 0.8487394957983193\n",
      "Validation Loss: 1.3831575810909271\n",
      "Validation Accuracy: 0.8918918918918919\n"
     ]
    },
    {
     "name": "stderr",
     "output_type": "stream",
     "text": [
      "100%|██████████| 19/19 [00:02<00:00,  6.61it/s]\n",
      "100%|██████████| 3/3 [00:00<00:00,  8.82it/s]\n",
      "  5%|▌         | 1/19 [00:00<00:02,  6.52it/s]"
     ]
    },
    {
     "name": "stdout",
     "output_type": "stream",
     "text": [
      "Training Loss: 8.511326730251312\n",
      "Training Accuracy: 0.8621848739495799\n",
      "Validation Loss: 1.575732409954071\n",
      "Validation Accuracy: 0.7837837837837838\n"
     ]
    },
    {
     "name": "stderr",
     "output_type": "stream",
     "text": [
      "100%|██████████| 19/19 [00:02<00:00,  6.60it/s]\n",
      "100%|██████████| 3/3 [00:00<00:00,  8.82it/s]\n",
      "  5%|▌         | 1/19 [00:00<00:02,  6.55it/s]"
     ]
    },
    {
     "name": "stdout",
     "output_type": "stream",
     "text": [
      "Training Loss: 8.308182924985886\n",
      "Training Accuracy: 0.8840336134453781\n",
      "Validation Loss: 1.1732455492019653\n",
      "Validation Accuracy: 0.8918918918918919\n"
     ]
    },
    {
     "name": "stderr",
     "output_type": "stream",
     "text": [
      "100%|██████████| 19/19 [00:02<00:00,  6.62it/s]\n",
      "100%|██████████| 3/3 [00:00<00:00,  8.77it/s]\n",
      "  5%|▌         | 1/19 [00:00<00:02,  6.60it/s]"
     ]
    },
    {
     "name": "stdout",
     "output_type": "stream",
     "text": [
      "Training Loss: 8.353963136672974\n",
      "Training Accuracy: 0.8722689075630252\n",
      "Validation Loss: 1.2199146747589111\n",
      "Validation Accuracy: 0.9054054054054054\n"
     ]
    },
    {
     "name": "stderr",
     "output_type": "stream",
     "text": [
      "100%|██████████| 19/19 [00:02<00:00,  6.62it/s]\n",
      "100%|██████████| 3/3 [00:00<00:00,  8.74it/s]\n",
      "  5%|▌         | 1/19 [00:00<00:02,  6.51it/s]"
     ]
    },
    {
     "name": "stdout",
     "output_type": "stream",
     "text": [
      "Training Loss: 8.472912341356277\n",
      "Training Accuracy: 0.8672268907563025\n",
      "Validation Loss: 1.2155371308326721\n",
      "Validation Accuracy: 0.8918918918918919\n"
     ]
    },
    {
     "name": "stderr",
     "output_type": "stream",
     "text": [
      "100%|██████████| 19/19 [00:02<00:00,  6.61it/s]\n",
      "100%|██████████| 3/3 [00:00<00:00,  8.80it/s]\n",
      "  5%|▌         | 1/19 [00:00<00:02,  6.60it/s]"
     ]
    },
    {
     "name": "stdout",
     "output_type": "stream",
     "text": [
      "Training Loss: 8.181353509426117\n",
      "Training Accuracy: 0.8857142857142857\n",
      "Validation Loss: 1.2429781556129456\n",
      "Validation Accuracy: 0.9054054054054054\n"
     ]
    },
    {
     "name": "stderr",
     "output_type": "stream",
     "text": [
      "100%|██████████| 19/19 [00:02<00:00,  6.59it/s]\n",
      "100%|██████████| 3/3 [00:00<00:00,  8.85it/s]\n",
      "  5%|▌         | 1/19 [00:00<00:02,  6.47it/s]"
     ]
    },
    {
     "name": "stdout",
     "output_type": "stream",
     "text": [
      "Training Loss: 7.961827427148819\n",
      "Training Accuracy: 0.8907563025210085\n",
      "Validation Loss: 1.2498685121536255\n",
      "Validation Accuracy: 0.9054054054054054\n"
     ]
    },
    {
     "name": "stderr",
     "output_type": "stream",
     "text": [
      "100%|██████████| 19/19 [00:02<00:00,  6.60it/s]\n",
      "100%|██████████| 3/3 [00:00<00:00,  8.80it/s]\n",
      "  5%|▌         | 1/19 [00:00<00:02,  6.47it/s]"
     ]
    },
    {
     "name": "stdout",
     "output_type": "stream",
     "text": [
      "Training Loss: 8.100045323371887\n",
      "Training Accuracy: 0.8873949579831932\n",
      "Validation Loss: 1.2956326603889465\n",
      "Validation Accuracy: 0.9054054054054054\n"
     ]
    },
    {
     "name": "stderr",
     "output_type": "stream",
     "text": [
      "100%|██████████| 19/19 [00:02<00:00,  6.60it/s]\n",
      "100%|██████████| 3/3 [00:00<00:00,  8.74it/s]\n",
      "  5%|▌         | 1/19 [00:00<00:02,  6.51it/s]"
     ]
    },
    {
     "name": "stdout",
     "output_type": "stream",
     "text": [
      "Training Loss: 7.535557955503464\n",
      "Training Accuracy: 0.9193277310924369\n",
      "Validation Loss: 1.2510221898555756\n",
      "Validation Accuracy: 0.9054054054054054\n"
     ]
    },
    {
     "name": "stderr",
     "output_type": "stream",
     "text": [
      "100%|██████████| 19/19 [00:02<00:00,  6.62it/s]\n",
      "100%|██████████| 3/3 [00:00<00:00,  8.72it/s]\n",
      "  5%|▌         | 1/19 [00:00<00:02,  6.60it/s]"
     ]
    },
    {
     "name": "stdout",
     "output_type": "stream",
     "text": [
      "Training Loss: 7.9076297879219055\n",
      "Training Accuracy: 0.8991596638655462\n",
      "Validation Loss: 1.5566852986812592\n",
      "Validation Accuracy: 0.8243243243243243\n"
     ]
    },
    {
     "name": "stderr",
     "output_type": "stream",
     "text": [
      "100%|██████████| 19/19 [00:02<00:00,  6.61it/s]\n",
      "100%|██████████| 3/3 [00:00<00:00,  8.77it/s]\n",
      "  5%|▌         | 1/19 [00:00<00:02,  6.55it/s]"
     ]
    },
    {
     "name": "stdout",
     "output_type": "stream",
     "text": [
      "Training Loss: 7.6365067064762115\n",
      "Training Accuracy: 0.9176470588235294\n",
      "Validation Loss: 1.3157033622264862\n",
      "Validation Accuracy: 0.8918918918918919\n"
     ]
    },
    {
     "name": "stderr",
     "output_type": "stream",
     "text": [
      "100%|██████████| 19/19 [00:02<00:00,  6.61it/s]\n",
      "100%|██████████| 3/3 [00:00<00:00,  8.79it/s]\n",
      "  5%|▌         | 1/19 [00:00<00:02,  6.51it/s]"
     ]
    },
    {
     "name": "stdout",
     "output_type": "stream",
     "text": [
      "Training Loss: 8.152100771665573\n",
      "Training Accuracy: 0.880672268907563\n",
      "Validation Loss: 1.2956292629241943\n",
      "Validation Accuracy: 0.8783783783783784\n"
     ]
    },
    {
     "name": "stderr",
     "output_type": "stream",
     "text": [
      "100%|██████████| 19/19 [00:02<00:00,  6.58it/s]\n",
      "100%|██████████| 3/3 [00:00<00:00,  8.82it/s]\n",
      "  5%|▌         | 1/19 [00:00<00:02,  6.55it/s]"
     ]
    },
    {
     "name": "stdout",
     "output_type": "stream",
     "text": [
      "Training Loss: 8.989959001541138\n",
      "Training Accuracy: 0.8252100840336134\n",
      "Validation Loss: 1.2277001440525055\n",
      "Validation Accuracy: 0.918918918918919\n"
     ]
    },
    {
     "name": "stderr",
     "output_type": "stream",
     "text": [
      "100%|██████████| 19/19 [00:02<00:00,  6.59it/s]\n",
      "100%|██████████| 3/3 [00:00<00:00,  8.85it/s]\n",
      "  5%|▌         | 1/19 [00:00<00:02,  6.60it/s]"
     ]
    },
    {
     "name": "stdout",
     "output_type": "stream",
     "text": [
      "Training Loss: 7.777432203292847\n",
      "Training Accuracy: 0.9025210084033614\n",
      "Validation Loss: 1.1589094996452332\n",
      "Validation Accuracy: 0.9054054054054054\n"
     ]
    },
    {
     "name": "stderr",
     "output_type": "stream",
     "text": [
      "100%|██████████| 19/19 [00:02<00:00,  6.61it/s]\n",
      "100%|██████████| 3/3 [00:00<00:00,  8.82it/s]\n",
      "  5%|▌         | 1/19 [00:00<00:02,  6.60it/s]"
     ]
    },
    {
     "name": "stdout",
     "output_type": "stream",
     "text": [
      "Training Loss: 7.524742692708969\n",
      "Training Accuracy: 0.9176470588235294\n",
      "Validation Loss: 1.2167813777923584\n",
      "Validation Accuracy: 0.918918918918919\n"
     ]
    },
    {
     "name": "stderr",
     "output_type": "stream",
     "text": [
      "100%|██████████| 19/19 [00:02<00:00,  6.58it/s]\n",
      "100%|██████████| 3/3 [00:00<00:00,  8.72it/s]\n",
      "  5%|▌         | 1/19 [00:00<00:02,  6.43it/s]"
     ]
    },
    {
     "name": "stdout",
     "output_type": "stream",
     "text": [
      "Training Loss: 7.4331523180007935\n",
      "Training Accuracy: 0.9226890756302522\n",
      "Validation Loss: 1.2893367111682892\n",
      "Validation Accuracy: 0.918918918918919\n"
     ]
    },
    {
     "name": "stderr",
     "output_type": "stream",
     "text": [
      "100%|██████████| 19/19 [00:02<00:00,  6.59it/s]\n",
      "100%|██████████| 3/3 [00:00<00:00,  8.82it/s]\n",
      "  5%|▌         | 1/19 [00:00<00:02,  6.39it/s]"
     ]
    },
    {
     "name": "stdout",
     "output_type": "stream",
     "text": [
      "Training Loss: 7.486196905374527\n",
      "Training Accuracy: 0.9176470588235294\n",
      "Validation Loss: 1.219035416841507\n",
      "Validation Accuracy: 0.9054054054054054\n"
     ]
    },
    {
     "name": "stderr",
     "output_type": "stream",
     "text": [
      "100%|██████████| 19/19 [00:02<00:00,  6.60it/s]\n",
      "100%|██████████| 3/3 [00:00<00:00,  8.82it/s]\n",
      "  5%|▌         | 1/19 [00:00<00:02,  6.47it/s]"
     ]
    },
    {
     "name": "stdout",
     "output_type": "stream",
     "text": [
      "Training Loss: 7.867693454027176\n",
      "Training Accuracy: 0.9025210084033614\n",
      "Validation Loss: 1.3193175792694092\n",
      "Validation Accuracy: 0.8783783783783784\n"
     ]
    },
    {
     "name": "stderr",
     "output_type": "stream",
     "text": [
      "100%|██████████| 19/19 [00:02<00:00,  6.61it/s]\n",
      "100%|██████████| 3/3 [00:00<00:00,  8.75it/s]\n",
      "  5%|▌         | 1/19 [00:00<00:02,  6.60it/s]"
     ]
    },
    {
     "name": "stdout",
     "output_type": "stream",
     "text": [
      "Training Loss: 7.424097418785095\n",
      "Training Accuracy: 0.9260504201680673\n",
      "Validation Loss: 1.3125568628311157\n",
      "Validation Accuracy: 0.9054054054054054\n"
     ]
    },
    {
     "name": "stderr",
     "output_type": "stream",
     "text": [
      "100%|██████████| 19/19 [00:02<00:00,  6.60it/s]\n",
      "100%|██████████| 3/3 [00:00<00:00,  8.67it/s]\n",
      "  5%|▌         | 1/19 [00:00<00:02,  6.51it/s]"
     ]
    },
    {
     "name": "stdout",
     "output_type": "stream",
     "text": [
      "Training Loss: 7.49569171667099\n",
      "Training Accuracy: 0.9176470588235294\n",
      "Validation Loss: 1.1858757734298706\n",
      "Validation Accuracy: 0.918918918918919\n"
     ]
    },
    {
     "name": "stderr",
     "output_type": "stream",
     "text": [
      "100%|██████████| 19/19 [00:02<00:00,  6.59it/s]\n",
      "100%|██████████| 3/3 [00:00<00:00,  8.77it/s]\n",
      "  5%|▌         | 1/19 [00:00<00:02,  6.55it/s]"
     ]
    },
    {
     "name": "stdout",
     "output_type": "stream",
     "text": [
      "Training Loss: 7.060862749814987\n",
      "Training Accuracy: 0.9428571428571428\n",
      "Validation Loss: 1.2645426988601685\n",
      "Validation Accuracy: 0.9324324324324325\n"
     ]
    },
    {
     "name": "stderr",
     "output_type": "stream",
     "text": [
      "100%|██████████| 19/19 [00:02<00:00,  6.59it/s]\n",
      "100%|██████████| 3/3 [00:00<00:00,  8.82it/s]\n",
      "  5%|▌         | 1/19 [00:00<00:02,  6.55it/s]"
     ]
    },
    {
     "name": "stdout",
     "output_type": "stream",
     "text": [
      "Training Loss: 7.155577540397644\n",
      "Training Accuracy: 0.9378151260504202\n",
      "Validation Loss: 1.228758990764618\n",
      "Validation Accuracy: 0.9324324324324325\n"
     ]
    },
    {
     "name": "stderr",
     "output_type": "stream",
     "text": [
      "100%|██████████| 19/19 [00:02<00:00,  6.58it/s]\n",
      "100%|██████████| 3/3 [00:00<00:00,  8.69it/s]"
     ]
    },
    {
     "name": "stdout",
     "output_type": "stream",
     "text": [
      "Training Loss: 7.732251077890396\n",
      "Training Accuracy: 0.9008403361344538\n",
      "Validation Loss: 1.224666714668274\n",
      "Validation Accuracy: 0.918918918918919\n"
     ]
    },
    {
     "name": "stderr",
     "output_type": "stream",
     "text": [
      "\n"
     ]
    }
   ],
   "source": [
    "epochs = 40\n",
    "optimizer = optim.Adam(model.parameters())\n",
    "#scheduler = optim.lr_scheduler.CyclicLR(optimizer, base_lr=1e-3, max_lr=1e-2, cycle_momentum=False)\n",
    "criterion = nn.CrossEntropyLoss()\n",
    "history = train(model, train_loader, val_loader, optimizer, criterion, epochs, device = device, scheduler = None)"
   ]
  },
  {
   "cell_type": "code",
   "execution_count": 2,
   "metadata": {},
   "outputs": [
    {
     "ename": "NameError",
     "evalue": "name 'plot_train_val' is not defined",
     "output_type": "error",
     "traceback": [
      "\u001b[1;31m---------------------------------------------------------------------------\u001b[0m",
      "\u001b[1;31mNameError\u001b[0m                                 Traceback (most recent call last)",
      "\u001b[1;32m<ipython-input-2-ccb802f9a23e>\u001b[0m in \u001b[0;36m<module>\u001b[1;34m\u001b[0m\n\u001b[1;32m----> 1\u001b[1;33m \u001b[0mplot_train_val\u001b[0m\u001b[1;33m(\u001b[0m\u001b[0mhistory\u001b[0m\u001b[1;33m,\u001b[0m \u001b[0mepochs\u001b[0m\u001b[1;33m,\u001b[0m \u001b[1;33m(\u001b[0m\u001b[1;36m10\u001b[0m\u001b[1;33m,\u001b[0m \u001b[1;36m10\u001b[0m\u001b[1;33m)\u001b[0m\u001b[1;33m)\u001b[0m\u001b[1;33m\u001b[0m\u001b[1;33m\u001b[0m\u001b[0m\n\u001b[0m",
      "\u001b[1;31mNameError\u001b[0m: name 'plot_train_val' is not defined"
     ]
    }
   ],
   "source": [
    "plot_train_val(history, epochs, (10, 10))"
   ]
  },
  {
   "cell_type": "code",
   "execution_count": 1,
   "metadata": {},
   "outputs": [
    {
     "ename": "NameError",
     "evalue": "name 'model' is not defined",
     "output_type": "error",
     "traceback": [
      "\u001b[1;31m---------------------------------------------------------------------------\u001b[0m",
      "\u001b[1;31mNameError\u001b[0m                                 Traceback (most recent call last)",
      "\u001b[1;32m<ipython-input-1-7b44af583ba7>\u001b[0m in \u001b[0;36m<module>\u001b[1;34m\u001b[0m\n\u001b[0;32m      2\u001b[0m \u001b[1;33m\u001b[0m\u001b[0m\n\u001b[0;32m      3\u001b[0m checkpoints = {\n\u001b[1;32m----> 4\u001b[1;33m     \u001b[1;34m'model'\u001b[0m \u001b[1;33m:\u001b[0m \u001b[0mmodel\u001b[0m\u001b[1;33m,\u001b[0m\u001b[1;33m\u001b[0m\u001b[1;33m\u001b[0m\u001b[0m\n\u001b[0m\u001b[0;32m      5\u001b[0m     \u001b[1;34m'input_shape'\u001b[0m \u001b[1;33m:\u001b[0m \u001b[1;33m(\u001b[0m\u001b[1;36m224\u001b[0m\u001b[1;33m,\u001b[0m \u001b[1;36m224\u001b[0m\u001b[1;33m,\u001b[0m \u001b[1;36m3\u001b[0m\u001b[1;33m)\u001b[0m\u001b[1;33m,\u001b[0m\u001b[1;33m\u001b[0m\u001b[1;33m\u001b[0m\u001b[0m\n\u001b[0;32m      6\u001b[0m     \u001b[1;34m'batch_size'\u001b[0m \u001b[1;33m:\u001b[0m \u001b[1;36m32\u001b[0m\u001b[1;33m,\u001b[0m\u001b[1;33m\u001b[0m\u001b[1;33m\u001b[0m\u001b[0m\n",
      "\u001b[1;31mNameError\u001b[0m: name 'model' is not defined"
     ]
    }
   ],
   "source": [
    "model_dir = 'resnetforpaper.pth'\n",
    "\n",
    "checkpoints = {\n",
    "    'model' : model,\n",
    "    'input_shape' : (224, 224, 3),\n",
    "    'batch_size' : 32,\n",
    "    'epochs' : 40,\n",
    "    'train_acc' : 91,\n",
    "    'val_acc' : 90,\n",
    "    'state_dict' : model.state_dict()\n",
    "}\n",
    "\n",
    "torch.save(checkpoints, model_dir)"
   ]
  },
  {
   "cell_type": "code",
   "execution_count": null,
   "metadata": {},
   "outputs": [],
   "source": []
  }
 ],
 "metadata": {
  "kernelspec": {
   "display_name": "Python 3",
   "language": "python",
   "name": "python3"
  },
  "language_info": {
   "codemirror_mode": {
    "name": "ipython",
    "version": 3
   },
   "file_extension": ".py",
   "mimetype": "text/x-python",
   "name": "python",
   "nbconvert_exporter": "python",
   "pygments_lexer": "ipython3",
   "version": "3.7.6"
  }
 },
 "nbformat": 4,
 "nbformat_minor": 4
}
