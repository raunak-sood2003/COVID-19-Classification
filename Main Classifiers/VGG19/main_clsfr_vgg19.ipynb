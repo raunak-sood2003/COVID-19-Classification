{
 "cells": [
  {
   "cell_type": "code",
   "execution_count": 1,
   "metadata": {},
   "outputs": [],
   "source": [
    "from CT_COVID_Preprocess import CTCOVIDDataset\n",
    "from model_tools import validation, train, load_model_checkpoint\n",
    "from eval_tools import VGG19_CAM\n",
    "from eval_tools import plot_train_val, test, display_FP_FN, get_confusion_matrix, plot_ROCAUC_curve, showCAM\n",
    "from custom_model import CNN_COVIDCT\n",
    "import torch\n",
    "import torchvision\n",
    "import torch.optim as optim\n",
    "from monai.transforms import Compose, LoadPNG, AddChannel, ScaleIntensity, ToTensor, RandRotate, RandFlip, RandZoom, Resize, RandGaussianNoise\n",
    "import torch.nn.functional as F\n",
    "import torch.nn as nn\n",
    "from torch.utils.data import DataLoader\n",
    "from collections import OrderedDict\n",
    "from torchvision import transforms"
   ]
  },
  {
   "cell_type": "code",
   "execution_count": 2,
   "metadata": {},
   "outputs": [],
   "source": [
    "device = torch.device(\"cuda:0\" if torch.cuda.is_available() else \"cpu\")"
   ]
  },
  {
   "cell_type": "code",
   "execution_count": 3,
   "metadata": {},
   "outputs": [],
   "source": [
    "dirCOVID = 'C:/Users/rrsoo/AdvancedStuff/Medical_AI/Classifier/Images-processed-new/CT_COVID'\n",
    "dirNonCOVID = 'C:/Users/rrsoo/AdvancedStuff/Medical_AI/Classifier/Images-processed-new/CT_NonCOVID'"
   ]
  },
  {
   "cell_type": "code",
   "execution_count": 4,
   "metadata": {},
   "outputs": [],
   "source": [
    "train_transforms = transforms.Compose([\n",
    "        LoadPNG(),\n",
    "        AddChannel(),\n",
    "        ScaleIntensity(),\n",
    "        RandRotate(degrees=15, prob=0.5),\n",
    "        RandFlip(spatial_axis=0, prob=0.5),\n",
    "        RandZoom(min_zoom=0.9, max_zoom=1.1, prob=0.5),\n",
    "        RandGaussianNoise(prob = 0.5),\n",
    "        Resize(spatial_size=(224, 224)),\n",
    "        ToTensor()\n",
    "    ])\n",
    "   \n",
    "\n",
    "val_transforms = transforms.Compose([\n",
    "    LoadPNG(),\n",
    "    AddChannel(),\n",
    "    ScaleIntensity(),\n",
    "    ToTensor()\n",
    "])"
   ]
  },
  {
   "cell_type": "code",
   "execution_count": 5,
   "metadata": {},
   "outputs": [
    {
     "name": "stderr",
     "output_type": "stream",
     "text": [
      "100%|██████████| 397/397 [00:00<00:00, 452.84it/s]\n",
      "100%|██████████| 346/346 [00:01<00:00, 327.60it/s]\n",
      "100%|██████████| 397/397 [00:00<00:00, 473.32it/s]\n",
      "100%|██████████| 346/346 [00:01<00:00, 334.55it/s]\n",
      "100%|██████████| 397/397 [00:00<00:00, 477.85it/s]\n",
      "100%|██████████| 346/346 [00:01<00:00, 335.52it/s]\n"
     ]
    }
   ],
   "source": [
    "BATCH_SIZE = 64\n",
    "ORIG_RES = False\n",
    "\n",
    "train_ds = CTCOVIDDataset(dirCOVID, dirNonCOVID, transforms = train_transforms, data = 'train', orig_res = ORIG_RES)\n",
    "train_loader = DataLoader(train_ds, batch_size=BATCH_SIZE, shuffle=True)\n",
    "\n",
    "val_ds = CTCOVIDDataset(dirCOVID, dirNonCOVID, transforms = val_transforms, data = 'val', orig_res = ORIG_RES)\n",
    "val_loader = DataLoader(val_ds, batch_size=BATCH_SIZE, shuffle=True)\n",
    "\n",
    "test_ds = CTCOVIDDataset(dirCOVID, dirNonCOVID, transforms = val_transforms, data = 'test', orig_res = ORIG_RES)\n",
    "test_loader = DataLoader(test_ds, batch_size=BATCH_SIZE, shuffle=True)"
   ]
  },
  {
   "cell_type": "code",
   "execution_count": 6,
   "metadata": {},
   "outputs": [
    {
     "name": "stdout",
     "output_type": "stream",
     "text": [
      "VGG(\n",
      "  (features): Sequential(\n",
      "    (0): Conv2d(3, 64, kernel_size=(3, 3), stride=(1, 1), padding=(1, 1))\n",
      "    (1): ReLU(inplace=True)\n",
      "    (2): Conv2d(64, 64, kernel_size=(3, 3), stride=(1, 1), padding=(1, 1))\n",
      "    (3): ReLU(inplace=True)\n",
      "    (4): MaxPool2d(kernel_size=2, stride=2, padding=0, dilation=1, ceil_mode=False)\n",
      "    (5): Conv2d(64, 128, kernel_size=(3, 3), stride=(1, 1), padding=(1, 1))\n",
      "    (6): ReLU(inplace=True)\n",
      "    (7): Conv2d(128, 128, kernel_size=(3, 3), stride=(1, 1), padding=(1, 1))\n",
      "    (8): ReLU(inplace=True)\n",
      "    (9): MaxPool2d(kernel_size=2, stride=2, padding=0, dilation=1, ceil_mode=False)\n",
      "    (10): Conv2d(128, 256, kernel_size=(3, 3), stride=(1, 1), padding=(1, 1))\n",
      "    (11): ReLU(inplace=True)\n",
      "    (12): Conv2d(256, 256, kernel_size=(3, 3), stride=(1, 1), padding=(1, 1))\n",
      "    (13): ReLU(inplace=True)\n",
      "    (14): Conv2d(256, 256, kernel_size=(3, 3), stride=(1, 1), padding=(1, 1))\n",
      "    (15): ReLU(inplace=True)\n",
      "    (16): Conv2d(256, 256, kernel_size=(3, 3), stride=(1, 1), padding=(1, 1))\n",
      "    (17): ReLU(inplace=True)\n",
      "    (18): MaxPool2d(kernel_size=2, stride=2, padding=0, dilation=1, ceil_mode=False)\n",
      "    (19): Conv2d(256, 512, kernel_size=(3, 3), stride=(1, 1), padding=(1, 1))\n",
      "    (20): ReLU(inplace=True)\n",
      "    (21): Conv2d(512, 512, kernel_size=(3, 3), stride=(1, 1), padding=(1, 1))\n",
      "    (22): ReLU(inplace=True)\n",
      "    (23): Conv2d(512, 512, kernel_size=(3, 3), stride=(1, 1), padding=(1, 1))\n",
      "    (24): ReLU(inplace=True)\n",
      "    (25): Conv2d(512, 512, kernel_size=(3, 3), stride=(1, 1), padding=(1, 1))\n",
      "    (26): ReLU(inplace=True)\n",
      "    (27): MaxPool2d(kernel_size=2, stride=2, padding=0, dilation=1, ceil_mode=False)\n",
      "    (28): Conv2d(512, 512, kernel_size=(3, 3), stride=(1, 1), padding=(1, 1))\n",
      "    (29): ReLU(inplace=True)\n",
      "    (30): Conv2d(512, 512, kernel_size=(3, 3), stride=(1, 1), padding=(1, 1))\n",
      "    (31): ReLU(inplace=True)\n",
      "    (32): Conv2d(512, 512, kernel_size=(3, 3), stride=(1, 1), padding=(1, 1))\n",
      "    (33): ReLU(inplace=True)\n",
      "    (34): Conv2d(512, 512, kernel_size=(3, 3), stride=(1, 1), padding=(1, 1))\n",
      "    (35): ReLU(inplace=True)\n",
      "    (36): MaxPool2d(kernel_size=2, stride=2, padding=0, dilation=1, ceil_mode=False)\n",
      "  )\n",
      "  (avgpool): AdaptiveAvgPool2d(output_size=(7, 7))\n",
      "  (classifier): Sequential(\n",
      "    (fc1): Linear(in_features=25088, out_features=512, bias=True)\n",
      "    (activation1): ReLU()\n",
      "    (dropout1): Dropout(p=0.5, inplace=False)\n",
      "    (fc2): Linear(in_features=512, out_features=256, bias=True)\n",
      "    (activation2): ReLU()\n",
      "    (dropout2): Dropout(p=0.5, inplace=False)\n",
      "    (fc3): Linear(in_features=256, out_features=128, bias=True)\n",
      "    (activation3): ReLU()\n",
      "    (dropout3): Dropout(p=0.5, inplace=False)\n",
      "    (fc4): Linear(in_features=128, out_features=2, bias=True)\n",
      "    (out): Sigmoid()\n",
      "  )\n",
      ")\n"
     ]
    }
   ],
   "source": [
    "model_name = 'vgg19' #changeable\n",
    "PRETRAINED = True #changeable\n",
    "\n",
    "model = None #Don't touch\n",
    "\n",
    "if model_name == 'vgg19':\n",
    "    model = torchvision.models.vgg19(pretrained = PRETRAINED).to(device)\n",
    "    \n",
    "    if PRETRAINED:\n",
    "        for param in model.parameters():\n",
    "            param.requires_grad = False\n",
    "            \n",
    "    layers_vgg19 = nn.Sequential(OrderedDict([\n",
    "            ('fc1', nn.Linear(25088, 512)),\n",
    "            ('activation1', nn.ReLU()),\n",
    "            ('dropout1', nn.Dropout()),\n",
    "            ('fc2', nn.Linear(512, 256)),\n",
    "            ('activation2', nn.ReLU()),\n",
    "            ('dropout2', nn.Dropout()),\n",
    "            ('fc3', nn.Linear(256, 128)),\n",
    "            ('activation3', nn.ReLU()),\n",
    "            ('dropout3', nn.Dropout()),\n",
    "            ('fc4', nn.Linear(128, 2)),\n",
    "            ('out', nn.Sigmoid())\n",
    "\n",
    "        ])).to(device)\n",
    "    model.classifier = layers_vgg19\n",
    "\n",
    "assert(model is not None)\n",
    "print(model)"
   ]
  },
  {
   "cell_type": "code",
   "execution_count": 7,
   "metadata": {},
   "outputs": [
    {
     "name": "stderr",
     "output_type": "stream",
     "text": [
      "100%|██████████| 10/10 [00:08<00:00,  1.16it/s]\n",
      "100%|██████████| 2/2 [00:00<00:00,  2.05it/s]\n",
      "  0%|          | 0/10 [00:00<?, ?it/s]"
     ]
    },
    {
     "name": "stdout",
     "output_type": "stream",
     "text": [
      "Training Loss: 6.956918478012085\n",
      "Training Accuracy: 0.5243697478991597\n",
      "Validation Loss: 1.3880950212478638\n",
      "Validation Accuracy: 0.5675675675675675\n"
     ]
    },
    {
     "name": "stderr",
     "output_type": "stream",
     "text": [
      "100%|██████████| 10/10 [00:07<00:00,  1.30it/s]\n",
      "100%|██████████| 2/2 [00:00<00:00,  2.04it/s]\n",
      "  0%|          | 0/10 [00:00<?, ?it/s]"
     ]
    },
    {
     "name": "stdout",
     "output_type": "stream",
     "text": [
      "Training Loss: 6.850770533084869\n",
      "Training Accuracy: 0.5495798319327732\n",
      "Validation Loss: 1.3301559686660767\n",
      "Validation Accuracy: 0.7837837837837838\n"
     ]
    },
    {
     "name": "stderr",
     "output_type": "stream",
     "text": [
      "100%|██████████| 10/10 [00:07<00:00,  1.30it/s]\n",
      "100%|██████████| 2/2 [00:00<00:00,  2.05it/s]\n",
      "  0%|          | 0/10 [00:00<?, ?it/s]"
     ]
    },
    {
     "name": "stdout",
     "output_type": "stream",
     "text": [
      "Training Loss: 6.9543217420578\n",
      "Training Accuracy: 0.5462184873949579\n",
      "Validation Loss: 1.33311527967453\n",
      "Validation Accuracy: 0.6081081081081081\n"
     ]
    },
    {
     "name": "stderr",
     "output_type": "stream",
     "text": [
      "100%|██████████| 10/10 [00:07<00:00,  1.30it/s]\n",
      "100%|██████████| 2/2 [00:00<00:00,  2.04it/s]\n",
      "  0%|          | 0/10 [00:00<?, ?it/s]"
     ]
    },
    {
     "name": "stdout",
     "output_type": "stream",
     "text": [
      "Training Loss: 6.606264114379883\n",
      "Training Accuracy: 0.6\n",
      "Validation Loss: 1.3072346448898315\n",
      "Validation Accuracy: 0.5945945945945946\n"
     ]
    },
    {
     "name": "stderr",
     "output_type": "stream",
     "text": [
      "100%|██████████| 10/10 [00:07<00:00,  1.30it/s]\n",
      "100%|██████████| 2/2 [00:00<00:00,  2.03it/s]\n",
      "  0%|          | 0/10 [00:00<?, ?it/s]"
     ]
    },
    {
     "name": "stdout",
     "output_type": "stream",
     "text": [
      "Training Loss: 6.280668497085571\n",
      "Training Accuracy: 0.6420168067226891\n",
      "Validation Loss: 1.1643261909484863\n",
      "Validation Accuracy: 0.7702702702702703\n"
     ]
    },
    {
     "name": "stderr",
     "output_type": "stream",
     "text": [
      "100%|██████████| 10/10 [00:07<00:00,  1.30it/s]\n",
      "100%|██████████| 2/2 [00:00<00:00,  2.04it/s]\n",
      "  0%|          | 0/10 [00:00<?, ?it/s]"
     ]
    },
    {
     "name": "stdout",
     "output_type": "stream",
     "text": [
      "Training Loss: 5.720757603645325\n",
      "Training Accuracy: 0.7445378151260504\n",
      "Validation Loss: 1.1620736718177795\n",
      "Validation Accuracy: 0.7837837837837838\n"
     ]
    },
    {
     "name": "stderr",
     "output_type": "stream",
     "text": [
      "100%|██████████| 10/10 [00:07<00:00,  1.29it/s]\n",
      "100%|██████████| 2/2 [00:00<00:00,  2.03it/s]\n",
      "  0%|          | 0/10 [00:00<?, ?it/s]"
     ]
    },
    {
     "name": "stdout",
     "output_type": "stream",
     "text": [
      "Training Loss: 5.374630898237228\n",
      "Training Accuracy: 0.7697478991596639\n",
      "Validation Loss: 1.0119131207466125\n",
      "Validation Accuracy: 0.8108108108108109\n"
     ]
    },
    {
     "name": "stderr",
     "output_type": "stream",
     "text": [
      "100%|██████████| 10/10 [00:07<00:00,  1.29it/s]\n",
      "100%|██████████| 2/2 [00:00<00:00,  2.04it/s]\n",
      "  0%|          | 0/10 [00:00<?, ?it/s]"
     ]
    },
    {
     "name": "stdout",
     "output_type": "stream",
     "text": [
      "Training Loss: 5.2720862329006195\n",
      "Training Accuracy: 0.7899159663865546\n",
      "Validation Loss: 0.867485761642456\n",
      "Validation Accuracy: 0.8108108108108109\n"
     ]
    },
    {
     "name": "stderr",
     "output_type": "stream",
     "text": [
      "100%|██████████| 10/10 [00:07<00:00,  1.29it/s]\n",
      "100%|██████████| 2/2 [00:00<00:00,  2.04it/s]\n",
      "  0%|          | 0/10 [00:00<?, ?it/s]"
     ]
    },
    {
     "name": "stdout",
     "output_type": "stream",
     "text": [
      "Training Loss: 5.05113011598587\n",
      "Training Accuracy: 0.8\n",
      "Validation Loss: 1.1000376641750336\n",
      "Validation Accuracy: 0.8243243243243243\n"
     ]
    },
    {
     "name": "stderr",
     "output_type": "stream",
     "text": [
      "100%|██████████| 10/10 [00:07<00:00,  1.29it/s]\n",
      "100%|██████████| 2/2 [00:00<00:00,  2.03it/s]\n",
      "  0%|          | 0/10 [00:00<?, ?it/s]"
     ]
    },
    {
     "name": "stdout",
     "output_type": "stream",
     "text": [
      "Training Loss: 4.926339328289032\n",
      "Training Accuracy: 0.8033613445378152\n",
      "Validation Loss: 1.1124624609947205\n",
      "Validation Accuracy: 0.7837837837837838\n"
     ]
    },
    {
     "name": "stderr",
     "output_type": "stream",
     "text": [
      "100%|██████████| 10/10 [00:07<00:00,  1.29it/s]\n",
      "100%|██████████| 2/2 [00:00<00:00,  2.04it/s]\n",
      "  0%|          | 0/10 [00:00<?, ?it/s]"
     ]
    },
    {
     "name": "stdout",
     "output_type": "stream",
     "text": [
      "Training Loss: 4.866516441106796\n",
      "Training Accuracy: 0.8100840336134454\n",
      "Validation Loss: 0.9071873128414154\n",
      "Validation Accuracy: 0.7972972972972973\n"
     ]
    },
    {
     "name": "stderr",
     "output_type": "stream",
     "text": [
      "100%|██████████| 10/10 [00:07<00:00,  1.29it/s]\n",
      "100%|██████████| 2/2 [00:00<00:00,  2.04it/s]\n",
      "  0%|          | 0/10 [00:00<?, ?it/s]"
     ]
    },
    {
     "name": "stdout",
     "output_type": "stream",
     "text": [
      "Training Loss: 5.116383671760559\n",
      "Training Accuracy: 0.8067226890756303\n",
      "Validation Loss: 0.9016804099082947\n",
      "Validation Accuracy: 0.8783783783783784\n"
     ]
    },
    {
     "name": "stderr",
     "output_type": "stream",
     "text": [
      "100%|██████████| 10/10 [00:07<00:00,  1.29it/s]\n",
      "100%|██████████| 2/2 [00:00<00:00,  2.04it/s]\n",
      "  0%|          | 0/10 [00:00<?, ?it/s]"
     ]
    },
    {
     "name": "stdout",
     "output_type": "stream",
     "text": [
      "Training Loss: 4.833878666162491\n",
      "Training Accuracy: 0.8201680672268907\n",
      "Validation Loss: 0.9736038744449615\n",
      "Validation Accuracy: 0.8243243243243243\n"
     ]
    },
    {
     "name": "stderr",
     "output_type": "stream",
     "text": [
      "100%|██████████| 10/10 [00:07<00:00,  1.29it/s]\n",
      "100%|██████████| 2/2 [00:00<00:00,  2.03it/s]\n",
      "  0%|          | 0/10 [00:00<?, ?it/s]"
     ]
    },
    {
     "name": "stdout",
     "output_type": "stream",
     "text": [
      "Training Loss: 5.107296526432037\n",
      "Training Accuracy: 0.7966386554621848\n",
      "Validation Loss: 1.0679120421409607\n",
      "Validation Accuracy: 0.7567567567567568\n"
     ]
    },
    {
     "name": "stderr",
     "output_type": "stream",
     "text": [
      "100%|██████████| 10/10 [00:07<00:00,  1.29it/s]\n",
      "100%|██████████| 2/2 [00:00<00:00,  2.04it/s]\n",
      "  0%|          | 0/10 [00:00<?, ?it/s]"
     ]
    },
    {
     "name": "stdout",
     "output_type": "stream",
     "text": [
      "Training Loss: 4.665245413780212\n",
      "Training Accuracy: 0.8319327731092437\n",
      "Validation Loss: 1.004795879125595\n",
      "Validation Accuracy: 0.7972972972972973\n"
     ]
    },
    {
     "name": "stderr",
     "output_type": "stream",
     "text": [
      "100%|██████████| 10/10 [00:07<00:00,  1.29it/s]\n",
      "100%|██████████| 2/2 [00:00<00:00,  2.03it/s]\n",
      "  0%|          | 0/10 [00:00<?, ?it/s]"
     ]
    },
    {
     "name": "stdout",
     "output_type": "stream",
     "text": [
      "Training Loss: 4.574347943067551\n",
      "Training Accuracy: 0.8521008403361344\n",
      "Validation Loss: 0.9386322498321533\n",
      "Validation Accuracy: 0.8918918918918919\n"
     ]
    },
    {
     "name": "stderr",
     "output_type": "stream",
     "text": [
      "100%|██████████| 10/10 [00:07<00:00,  1.29it/s]\n",
      "100%|██████████| 2/2 [00:00<00:00,  2.02it/s]\n",
      "  0%|          | 0/10 [00:00<?, ?it/s]"
     ]
    },
    {
     "name": "stdout",
     "output_type": "stream",
     "text": [
      "Training Loss: 4.390781760215759\n",
      "Training Accuracy: 0.8857142857142857\n",
      "Validation Loss: 0.8511930406093597\n",
      "Validation Accuracy: 0.8918918918918919\n"
     ]
    },
    {
     "name": "stderr",
     "output_type": "stream",
     "text": [
      "100%|██████████| 10/10 [00:07<00:00,  1.28it/s]\n",
      "100%|██████████| 2/2 [00:00<00:00,  2.02it/s]\n",
      "  0%|          | 0/10 [00:00<?, ?it/s]"
     ]
    },
    {
     "name": "stdout",
     "output_type": "stream",
     "text": [
      "Training Loss: 4.187455922365189\n",
      "Training Accuracy: 0.8974789915966387\n",
      "Validation Loss: 0.8936146795749664\n",
      "Validation Accuracy: 0.8378378378378378\n"
     ]
    },
    {
     "name": "stderr",
     "output_type": "stream",
     "text": [
      "100%|██████████| 10/10 [00:07<00:00,  1.29it/s]\n",
      "100%|██████████| 2/2 [00:00<00:00,  2.03it/s]\n",
      "  0%|          | 0/10 [00:00<?, ?it/s]"
     ]
    },
    {
     "name": "stdout",
     "output_type": "stream",
     "text": [
      "Training Loss: 4.241017580032349\n",
      "Training Accuracy: 0.8873949579831932\n",
      "Validation Loss: 0.9021614789962769\n",
      "Validation Accuracy: 0.8918918918918919\n"
     ]
    },
    {
     "name": "stderr",
     "output_type": "stream",
     "text": [
      "100%|██████████| 10/10 [00:07<00:00,  1.29it/s]\n",
      "100%|██████████| 2/2 [00:00<00:00,  2.02it/s]\n",
      "  0%|          | 0/10 [00:00<?, ?it/s]"
     ]
    },
    {
     "name": "stdout",
     "output_type": "stream",
     "text": [
      "Training Loss: 4.067489296197891\n",
      "Training Accuracy: 0.9159663865546218\n",
      "Validation Loss: 0.750423014163971\n",
      "Validation Accuracy: 0.9054054054054054\n"
     ]
    },
    {
     "name": "stderr",
     "output_type": "stream",
     "text": [
      "100%|██████████| 10/10 [00:07<00:00,  1.29it/s]\n",
      "100%|██████████| 2/2 [00:00<00:00,  2.04it/s]\n",
      "  0%|          | 0/10 [00:00<?, ?it/s]"
     ]
    },
    {
     "name": "stdout",
     "output_type": "stream",
     "text": [
      "Training Loss: 3.9669995307922363\n",
      "Training Accuracy: 0.9294117647058824\n",
      "Validation Loss: 0.8277592062950134\n",
      "Validation Accuracy: 0.9054054054054054\n"
     ]
    },
    {
     "name": "stderr",
     "output_type": "stream",
     "text": [
      "100%|██████████| 10/10 [00:07<00:00,  1.29it/s]\n",
      "100%|██████████| 2/2 [00:00<00:00,  2.03it/s]\n",
      "  0%|          | 0/10 [00:00<?, ?it/s]"
     ]
    },
    {
     "name": "stdout",
     "output_type": "stream",
     "text": [
      "Training Loss: 4.165209203958511\n",
      "Training Accuracy: 0.8991596638655462\n",
      "Validation Loss: 1.0085914731025696\n",
      "Validation Accuracy: 0.8648648648648649\n"
     ]
    },
    {
     "name": "stderr",
     "output_type": "stream",
     "text": [
      "100%|██████████| 10/10 [00:07<00:00,  1.29it/s]\n",
      "100%|██████████| 2/2 [00:00<00:00,  2.02it/s]\n",
      "  0%|          | 0/10 [00:00<?, ?it/s]"
     ]
    },
    {
     "name": "stdout",
     "output_type": "stream",
     "text": [
      "Training Loss: 4.0745817720890045\n",
      "Training Accuracy: 0.9025210084033614\n",
      "Validation Loss: 0.9959210455417633\n",
      "Validation Accuracy: 0.8918918918918919\n"
     ]
    },
    {
     "name": "stderr",
     "output_type": "stream",
     "text": [
      "100%|██████████| 10/10 [00:07<00:00,  1.29it/s]\n",
      "100%|██████████| 2/2 [00:00<00:00,  2.02it/s]\n",
      "  0%|          | 0/10 [00:00<?, ?it/s]"
     ]
    },
    {
     "name": "stdout",
     "output_type": "stream",
     "text": [
      "Training Loss: 3.9037370681762695\n",
      "Training Accuracy: 0.9176470588235294\n",
      "Validation Loss: 0.9932497441768646\n",
      "Validation Accuracy: 0.8783783783783784\n"
     ]
    },
    {
     "name": "stderr",
     "output_type": "stream",
     "text": [
      "100%|██████████| 10/10 [00:07<00:00,  1.28it/s]\n",
      "100%|██████████| 2/2 [00:00<00:00,  2.02it/s]\n",
      "  0%|          | 0/10 [00:00<?, ?it/s]"
     ]
    },
    {
     "name": "stdout",
     "output_type": "stream",
     "text": [
      "Training Loss: 3.8799041509628296\n",
      "Training Accuracy: 0.9277310924369748\n",
      "Validation Loss: 0.9020722508430481\n",
      "Validation Accuracy: 0.9054054054054054\n"
     ]
    },
    {
     "name": "stderr",
     "output_type": "stream",
     "text": [
      "100%|██████████| 10/10 [00:07<00:00,  1.29it/s]\n",
      "100%|██████████| 2/2 [00:00<00:00,  2.03it/s]\n",
      "  0%|          | 0/10 [00:00<?, ?it/s]"
     ]
    },
    {
     "name": "stdout",
     "output_type": "stream",
     "text": [
      "Training Loss: 3.7238259613513947\n",
      "Training Accuracy: 0.9378151260504202\n",
      "Validation Loss: 0.7265488803386688\n",
      "Validation Accuracy: 0.918918918918919\n"
     ]
    },
    {
     "name": "stderr",
     "output_type": "stream",
     "text": [
      "100%|██████████| 10/10 [00:07<00:00,  1.29it/s]\n",
      "100%|██████████| 2/2 [00:00<00:00,  2.03it/s]\n",
      "  0%|          | 0/10 [00:00<?, ?it/s]"
     ]
    },
    {
     "name": "stdout",
     "output_type": "stream",
     "text": [
      "Training Loss: 3.8323550522327423\n",
      "Training Accuracy: 0.9260504201680673\n",
      "Validation Loss: 0.8226715624332428\n",
      "Validation Accuracy: 0.918918918918919\n"
     ]
    },
    {
     "name": "stderr",
     "output_type": "stream",
     "text": [
      "100%|██████████| 10/10 [00:07<00:00,  1.29it/s]\n",
      "100%|██████████| 2/2 [00:00<00:00,  2.04it/s]\n",
      "  0%|          | 0/10 [00:00<?, ?it/s]"
     ]
    },
    {
     "name": "stdout",
     "output_type": "stream",
     "text": [
      "Training Loss: 3.775015950202942\n",
      "Training Accuracy: 0.934453781512605\n",
      "Validation Loss: 0.7266824543476105\n",
      "Validation Accuracy: 0.918918918918919\n"
     ]
    },
    {
     "name": "stderr",
     "output_type": "stream",
     "text": [
      "100%|██████████| 10/10 [00:07<00:00,  1.28it/s]\n",
      "100%|██████████| 2/2 [00:00<00:00,  2.04it/s]\n",
      "  0%|          | 0/10 [00:00<?, ?it/s]"
     ]
    },
    {
     "name": "stdout",
     "output_type": "stream",
     "text": [
      "Training Loss: 3.7960004210472107\n",
      "Training Accuracy: 0.9378151260504202\n",
      "Validation Loss: 0.8751769661903381\n",
      "Validation Accuracy: 0.8783783783783784\n"
     ]
    },
    {
     "name": "stderr",
     "output_type": "stream",
     "text": [
      "100%|██████████| 10/10 [00:07<00:00,  1.29it/s]\n",
      "100%|██████████| 2/2 [00:00<00:00,  2.03it/s]\n",
      "  0%|          | 0/10 [00:00<?, ?it/s]"
     ]
    },
    {
     "name": "stdout",
     "output_type": "stream",
     "text": [
      "Training Loss: 3.865012139081955\n",
      "Training Accuracy: 0.9327731092436975\n",
      "Validation Loss: 0.922787070274353\n",
      "Validation Accuracy: 0.9054054054054054\n"
     ]
    },
    {
     "name": "stderr",
     "output_type": "stream",
     "text": [
      "100%|██████████| 10/10 [00:07<00:00,  1.29it/s]\n",
      "100%|██████████| 2/2 [00:00<00:00,  2.02it/s]\n",
      "  0%|          | 0/10 [00:00<?, ?it/s]"
     ]
    },
    {
     "name": "stdout",
     "output_type": "stream",
     "text": [
      "Training Loss: 3.935752272605896\n",
      "Training Accuracy: 0.9159663865546218\n",
      "Validation Loss: 0.8213403224945068\n",
      "Validation Accuracy: 0.9054054054054054\n"
     ]
    },
    {
     "name": "stderr",
     "output_type": "stream",
     "text": [
      "100%|██████████| 10/10 [00:07<00:00,  1.29it/s]\n",
      "100%|██████████| 2/2 [00:00<00:00,  2.03it/s]\n",
      "  0%|          | 0/10 [00:00<?, ?it/s]"
     ]
    },
    {
     "name": "stdout",
     "output_type": "stream",
     "text": [
      "Training Loss: 3.616228759288788\n",
      "Training Accuracy: 0.9546218487394958\n",
      "Validation Loss: 0.8779657483100891\n",
      "Validation Accuracy: 0.9054054054054054\n"
     ]
    },
    {
     "name": "stderr",
     "output_type": "stream",
     "text": [
      "100%|██████████| 10/10 [00:07<00:00,  1.28it/s]\n",
      "100%|██████████| 2/2 [00:00<00:00,  2.03it/s]\n",
      "  0%|          | 0/10 [00:00<?, ?it/s]"
     ]
    },
    {
     "name": "stdout",
     "output_type": "stream",
     "text": [
      "Training Loss: 3.6585539877414703\n",
      "Training Accuracy: 0.9495798319327731\n",
      "Validation Loss: 0.832756757736206\n",
      "Validation Accuracy: 0.8918918918918919\n"
     ]
    },
    {
     "name": "stderr",
     "output_type": "stream",
     "text": [
      "100%|██████████| 10/10 [00:07<00:00,  1.29it/s]\n",
      "100%|██████████| 2/2 [00:00<00:00,  2.02it/s]\n",
      "  0%|          | 0/10 [00:00<?, ?it/s]"
     ]
    },
    {
     "name": "stdout",
     "output_type": "stream",
     "text": [
      "Training Loss: 3.627478063106537\n",
      "Training Accuracy: 0.9512605042016806\n",
      "Validation Loss: 0.7553613781929016\n",
      "Validation Accuracy: 0.8918918918918919\n"
     ]
    },
    {
     "name": "stderr",
     "output_type": "stream",
     "text": [
      "100%|██████████| 10/10 [00:07<00:00,  1.29it/s]\n",
      "100%|██████████| 2/2 [00:00<00:00,  2.04it/s]\n",
      "  0%|          | 0/10 [00:00<?, ?it/s]"
     ]
    },
    {
     "name": "stdout",
     "output_type": "stream",
     "text": [
      "Training Loss: 3.6086136400699615\n",
      "Training Accuracy: 0.9478991596638655\n",
      "Validation Loss: 0.7169626951217651\n",
      "Validation Accuracy: 0.9054054054054054\n"
     ]
    },
    {
     "name": "stderr",
     "output_type": "stream",
     "text": [
      "100%|██████████| 10/10 [00:07<00:00,  1.29it/s]\n",
      "100%|██████████| 2/2 [00:00<00:00,  2.04it/s]\n",
      "  0%|          | 0/10 [00:00<?, ?it/s]"
     ]
    },
    {
     "name": "stdout",
     "output_type": "stream",
     "text": [
      "Training Loss: 3.6767536997795105\n",
      "Training Accuracy: 0.9495798319327731\n",
      "Validation Loss: 0.7419536709785461\n",
      "Validation Accuracy: 0.9324324324324325\n"
     ]
    },
    {
     "name": "stderr",
     "output_type": "stream",
     "text": [
      "100%|██████████| 10/10 [00:07<00:00,  1.29it/s]\n",
      "100%|██████████| 2/2 [00:00<00:00,  2.03it/s]\n",
      "  0%|          | 0/10 [00:00<?, ?it/s]"
     ]
    },
    {
     "name": "stdout",
     "output_type": "stream",
     "text": [
      "Training Loss: 3.8148661851882935\n",
      "Training Accuracy: 0.9310924369747899\n",
      "Validation Loss: 0.7905069589614868\n",
      "Validation Accuracy: 0.9324324324324325\n"
     ]
    },
    {
     "name": "stderr",
     "output_type": "stream",
     "text": [
      "100%|██████████| 10/10 [00:07<00:00,  1.29it/s]\n",
      "100%|██████████| 2/2 [00:00<00:00,  2.01it/s]\n",
      "  0%|          | 0/10 [00:00<?, ?it/s]"
     ]
    },
    {
     "name": "stdout",
     "output_type": "stream",
     "text": [
      "Training Loss: 3.7837122082710266\n",
      "Training Accuracy: 0.9478991596638655\n",
      "Validation Loss: 0.7762700617313385\n",
      "Validation Accuracy: 0.918918918918919\n"
     ]
    },
    {
     "name": "stderr",
     "output_type": "stream",
     "text": [
      "100%|██████████| 10/10 [00:07<00:00,  1.29it/s]\n",
      "100%|██████████| 2/2 [00:00<00:00,  2.04it/s]\n",
      "  0%|          | 0/10 [00:00<?, ?it/s]"
     ]
    },
    {
     "name": "stdout",
     "output_type": "stream",
     "text": [
      "Training Loss: 3.8279646933078766\n",
      "Training Accuracy: 0.9361344537815126\n",
      "Validation Loss: 0.8756310641765594\n",
      "Validation Accuracy: 0.9324324324324325\n"
     ]
    },
    {
     "name": "stderr",
     "output_type": "stream",
     "text": [
      "100%|██████████| 10/10 [00:07<00:00,  1.28it/s]\n",
      "100%|██████████| 2/2 [00:00<00:00,  2.01it/s]"
     ]
    },
    {
     "name": "stdout",
     "output_type": "stream",
     "text": [
      "Training Loss: 3.6855852007865906\n",
      "Training Accuracy: 0.9529411764705882\n",
      "Validation Loss: 0.9565800726413727\n",
      "Validation Accuracy: 0.9054054054054054\n"
     ]
    },
    {
     "name": "stderr",
     "output_type": "stream",
     "text": [
      "\n"
     ]
    }
   ],
   "source": [
    "epochs = 40\n",
    "optimizer = optim.Adam(model.parameters())\n",
    "#scheduler = optim.lr_scheduler.CyclicLR(optimizer, base_lr=1e-3, max_lr=1e-2, cycle_momentum=False)\n",
    "criterion = nn.CrossEntropyLoss()\n",
    "history = train(model, train_loader, val_loader, optimizer, criterion, epochs, device = device, scheduler = None)"
   ]
  },
  {
   "cell_type": "code",
   "execution_count": 8,
   "metadata": {},
   "outputs": [
    {
     "data": {
      "image/png": "[encoded data removed]",
      "text/plain": [
       "<Figure size 720x720 with 4 Axes>"
      ]
     },
     "metadata": {
      "needs_background": "light"
     },
     "output_type": "display_data"
    }
   ],
   "source": [
    "plot_train_val(history, epochs, (10, 10))"
   ]
  },
  {
   "cell_type": "code",
   "execution_count": 9,
   "metadata": {},
   "outputs": [
    {
     "data": {
      "text/plain": [
       "\"\\nmodel_dir = None\\n\\ncheckpoints = {\\n    'model' : model,\\n    'input_shape' : (224, 224, 3),\\n    'batch_size' : 32,\\n    'epochs' : 30,\\n    'train_acc' : 94.5,\\n    'val_acc' : 97.3,\\n    'state_dict' : model.state_dict()\\n}\\n\\ntorch.save(checkpoints, model_dir)\\n\""
      ]
     },
     "execution_count": 9,
     "metadata": {},
     "output_type": "execute_result"
    }
   ],
   "source": [
    "'''\n",
    "model_dir = None\n",
    "\n",
    "checkpoints = {\n",
    "    'model' : model,\n",
    "    'input_shape' : (224, 224, 3),\n",
    "    'batch_size' : 32,\n",
    "    'epochs' : 30,\n",
    "    'train_acc' : 94.5,\n",
    "    'val_acc' : 97.3,\n",
    "    'state_dict' : model.state_dict()\n",
    "}\n",
    "\n",
    "torch.save(checkpoints, model_dir)\n",
    "'''"
   ]
  },
  {
   "cell_type": "code",
   "execution_count": null,
   "metadata": {},
   "outputs": [],
   "source": []
  }
 ],
 "metadata": {
  "kernelspec": {
   "display_name": "Python 3",
   "language": "python",
   "name": "python3"
  },
  "language_info": {
   "codemirror_mode": {
    "name": "ipython",
    "version": 3
   },
   "file_extension": ".py",
   "mimetype": "text/x-python",
   "name": "python",
   "nbconvert_exporter": "python",
   "pygments_lexer": "ipython3",
   "version": "3.7.6"
  }
 },
 "nbformat": 4,
 "nbformat_minor": 4
}
