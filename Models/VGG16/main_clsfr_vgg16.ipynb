{
 "cells": [
  {
   "cell_type": "code",
   "execution_count": 1,
   "metadata": {},
   "outputs": [],
   "source": [
    "from CT_COVID_Preprocess import CTCOVIDDataset\n",
    "from model_tools import validation, train, load_model_checkpoint\n",
    "from eval_tools import VGG19_CAM\n",
    "from eval_tools import plot_train_val, test, display_FP_FN, get_confusion_matrix, plot_ROCAUC_curve, showCAM\n",
    "from custom_model import CNN_COVIDCT\n",
    "import torch\n",
    "import torchvision\n",
    "import torch.optim as optim\n",
    "from monai.transforms import Compose, LoadPNG, AddChannel, ScaleIntensity, ToTensor, RandRotate, RandFlip, RandZoom, Resize, RandGaussianNoise\n",
    "import torch.nn.functional as F\n",
    "import torch.nn as nn\n",
    "from torch.utils.data import DataLoader\n",
    "from collections import OrderedDict\n",
    "from torchvision import transforms"
   ]
  },
  {
   "cell_type": "code",
   "execution_count": 2,
   "metadata": {},
   "outputs": [],
   "source": [
    "device = torch.device(\"cuda:0\" if torch.cuda.is_available() else \"cpu\")"
   ]
  },
  {
   "cell_type": "code",
   "execution_count": 3,
   "metadata": {},
   "outputs": [],
   "source": [
    "dirCOVID = 'C:/Users/rrsoo/AdvancedStuff/Medical_AI/Classifier/Images-processed-new/CT_COVID'\n",
    "dirNonCOVID = 'C:/Users/rrsoo/AdvancedStuff/Medical_AI/Classifier/Images-processed-new/CT_NonCOVID'"
   ]
  },
  {
   "cell_type": "code",
   "execution_count": 4,
   "metadata": {},
   "outputs": [],
   "source": [
    "train_transforms = transforms.Compose([\n",
    "        LoadPNG(),\n",
    "        AddChannel(),\n",
    "        ScaleIntensity(),\n",
    "        RandRotate(degrees=15, prob=0.5),\n",
    "        RandFlip(spatial_axis=0, prob=0.5),\n",
    "        RandZoom(min_zoom=0.9, max_zoom=1.1, prob=0.5),\n",
    "        RandGaussianNoise(prob = 0.5),\n",
    "        Resize(spatial_size=(224, 224)),\n",
    "        ToTensor()\n",
    "    ])\n",
    "   \n",
    "\n",
    "val_transforms = transforms.Compose([\n",
    "    LoadPNG(),\n",
    "    AddChannel(),\n",
    "    ScaleIntensity(),\n",
    "    ToTensor()\n",
    "])"
   ]
  },
  {
   "cell_type": "code",
   "execution_count": 5,
   "metadata": {},
   "outputs": [
    {
     "name": "stderr",
     "output_type": "stream",
     "text": [
      "100%|██████████| 397/397 [00:00<00:00, 478.42it/s]\n",
      "100%|██████████| 346/346 [00:01<00:00, 324.22it/s]\n",
      "100%|██████████| 397/397 [00:00<00:00, 439.35it/s]\n",
      "100%|██████████| 346/346 [00:01<00:00, 327.59it/s]\n",
      "100%|██████████| 397/397 [00:00<00:00, 470.52it/s]\n",
      "100%|██████████| 346/346 [00:01<00:00, 332.30it/s]\n"
     ]
    }
   ],
   "source": [
    "BATCH_SIZE = 32\n",
    "ORIG_RES = False\n",
    "\n",
    "train_ds = CTCOVIDDataset(dirCOVID, dirNonCOVID, transforms = train_transforms, data = 'train', orig_res = ORIG_RES)\n",
    "train_loader = DataLoader(train_ds, batch_size=BATCH_SIZE, shuffle=True)\n",
    "\n",
    "val_ds = CTCOVIDDataset(dirCOVID, dirNonCOVID, transforms = val_transforms, data = 'val', orig_res = ORIG_RES)\n",
    "val_loader = DataLoader(val_ds, batch_size=BATCH_SIZE, shuffle=True)\n",
    "\n",
    "test_ds = CTCOVIDDataset(dirCOVID, dirNonCOVID, transforms = val_transforms, data = 'test', orig_res = ORIG_RES)\n",
    "test_loader = DataLoader(test_ds, batch_size=BATCH_SIZE, shuffle=True)"
   ]
  },
  {
   "cell_type": "code",
   "execution_count": 6,
   "metadata": {},
   "outputs": [
    {
     "name": "stdout",
     "output_type": "stream",
     "text": [
      "VGG(\n",
      "  (features): Sequential(\n",
      "    (0): Conv2d(3, 64, kernel_size=(3, 3), stride=(1, 1), padding=(1, 1))\n",
      "    (1): ReLU(inplace=True)\n",
      "    (2): Conv2d(64, 64, kernel_size=(3, 3), stride=(1, 1), padding=(1, 1))\n",
      "    (3): ReLU(inplace=True)\n",
      "    (4): MaxPool2d(kernel_size=2, stride=2, padding=0, dilation=1, ceil_mode=False)\n",
      "    (5): Conv2d(64, 128, kernel_size=(3, 3), stride=(1, 1), padding=(1, 1))\n",
      "    (6): ReLU(inplace=True)\n",
      "    (7): Conv2d(128, 128, kernel_size=(3, 3), stride=(1, 1), padding=(1, 1))\n",
      "    (8): ReLU(inplace=True)\n",
      "    (9): MaxPool2d(kernel_size=2, stride=2, padding=0, dilation=1, ceil_mode=False)\n",
      "    (10): Conv2d(128, 256, kernel_size=(3, 3), stride=(1, 1), padding=(1, 1))\n",
      "    (11): ReLU(inplace=True)\n",
      "    (12): Conv2d(256, 256, kernel_size=(3, 3), stride=(1, 1), padding=(1, 1))\n",
      "    (13): ReLU(inplace=True)\n",
      "    (14): Conv2d(256, 256, kernel_size=(3, 3), stride=(1, 1), padding=(1, 1))\n",
      "    (15): ReLU(inplace=True)\n",
      "    (16): MaxPool2d(kernel_size=2, stride=2, padding=0, dilation=1, ceil_mode=False)\n",
      "    (17): Conv2d(256, 512, kernel_size=(3, 3), stride=(1, 1), padding=(1, 1))\n",
      "    (18): ReLU(inplace=True)\n",
      "    (19): Conv2d(512, 512, kernel_size=(3, 3), stride=(1, 1), padding=(1, 1))\n",
      "    (20): ReLU(inplace=True)\n",
      "    (21): Conv2d(512, 512, kernel_size=(3, 3), stride=(1, 1), padding=(1, 1))\n",
      "    (22): ReLU(inplace=True)\n",
      "    (23): MaxPool2d(kernel_size=2, stride=2, padding=0, dilation=1, ceil_mode=False)\n",
      "    (24): Conv2d(512, 512, kernel_size=(3, 3), stride=(1, 1), padding=(1, 1))\n",
      "    (25): ReLU(inplace=True)\n",
      "    (26): Conv2d(512, 512, kernel_size=(3, 3), stride=(1, 1), padding=(1, 1))\n",
      "    (27): ReLU(inplace=True)\n",
      "    (28): Conv2d(512, 512, kernel_size=(3, 3), stride=(1, 1), padding=(1, 1))\n",
      "    (29): ReLU(inplace=True)\n",
      "    (30): MaxPool2d(kernel_size=2, stride=2, padding=0, dilation=1, ceil_mode=False)\n",
      "  )\n",
      "  (avgpool): AdaptiveAvgPool2d(output_size=(7, 7))\n",
      "  (classifier): Sequential(\n",
      "    (fc1): Linear(in_features=25088, out_features=512, bias=True)\n",
      "    (activation1): ReLU()\n",
      "    (dropout1): Dropout(p=0.5, inplace=False)\n",
      "    (fc2): Linear(in_features=512, out_features=256, bias=True)\n",
      "    (activation2): ReLU()\n",
      "    (dropout2): Dropout(p=0.5, inplace=False)\n",
      "    (fc3): Linear(in_features=256, out_features=128, bias=True)\n",
      "    (activation3): ReLU()\n",
      "    (dropout3): Dropout(p=0.5, inplace=False)\n",
      "    (fc4): Linear(in_features=128, out_features=2, bias=True)\n",
      "    (out): Sigmoid()\n",
      "  )\n",
      ")\n"
     ]
    }
   ],
   "source": [
    "model_name = 'vgg16' #changeable\n",
    "PRETRAINED = True #changeable\n",
    "\n",
    "model = None #Don't touch\n",
    "\n",
    "if model_name == 'vgg16':\n",
    "    model = torchvision.models.vgg16(pretrained = PRETRAINED).to(device)\n",
    "    \n",
    "    if PRETRAINED:\n",
    "        for param in model.parameters():\n",
    "            param.requires_grad = False\n",
    "            \n",
    "    layers_vgg16 = nn.Sequential(OrderedDict([\n",
    "            ('fc1', nn.Linear(25088, 512)),\n",
    "            ('activation1', nn.ReLU()),\n",
    "            ('dropout1', nn.Dropout()),\n",
    "            ('fc2', nn.Linear(512, 256)),\n",
    "            ('activation2', nn.ReLU()),\n",
    "            ('dropout2', nn.Dropout()),\n",
    "            ('fc3', nn.Linear(256, 128)),\n",
    "            ('activation3', nn.ReLU()),\n",
    "            ('dropout3', nn.Dropout()),\n",
    "            ('fc4', nn.Linear(128, 2)),\n",
    "            ('out', nn.Sigmoid())\n",
    "\n",
    "        ])).to(device)\n",
    "    model.classifier = layers_vgg16\n",
    "\n",
    "assert(model is not None)\n",
    "print(model)"
   ]
  },
  {
   "cell_type": "code",
   "execution_count": 7,
   "metadata": {},
   "outputs": [
    {
     "name": "stderr",
     "output_type": "stream",
     "text": [
      "100%|██████████| 19/19 [00:08<00:00,  2.29it/s]\n",
      "100%|██████████| 3/3 [00:00<00:00,  3.29it/s]\n",
      "  0%|          | 0/19 [00:00<?, ?it/s]"
     ]
    },
    {
     "name": "stdout",
     "output_type": "stream",
     "text": [
      "Training Loss: 13.141191899776459\n",
      "Training Accuracy: 0.5462184873949579\n",
      "Validation Loss: 2.07830947637558\n",
      "Validation Accuracy: 0.5405405405405406\n"
     ]
    },
    {
     "name": "stderr",
     "output_type": "stream",
     "text": [
      "100%|██████████| 19/19 [00:07<00:00,  2.56it/s]\n",
      "100%|██████████| 3/3 [00:00<00:00,  3.32it/s]\n",
      "  0%|          | 0/19 [00:00<?, ?it/s]"
     ]
    },
    {
     "name": "stdout",
     "output_type": "stream",
     "text": [
      "Training Loss: 13.031852424144745\n",
      "Training Accuracy: 0.5697478991596638\n",
      "Validation Loss: 2.025939702987671\n",
      "Validation Accuracy: 0.527027027027027\n"
     ]
    },
    {
     "name": "stderr",
     "output_type": "stream",
     "text": [
      "100%|██████████| 19/19 [00:07<00:00,  2.56it/s]\n",
      "100%|██████████| 3/3 [00:00<00:00,  3.31it/s]\n",
      "  0%|          | 0/19 [00:00<?, ?it/s]"
     ]
    },
    {
     "name": "stdout",
     "output_type": "stream",
     "text": [
      "Training Loss: 12.359479486942291\n",
      "Training Accuracy: 0.6235294117647059\n",
      "Validation Loss: 1.9654698967933655\n",
      "Validation Accuracy: 0.527027027027027\n"
     ]
    },
    {
     "name": "stderr",
     "output_type": "stream",
     "text": [
      "100%|██████████| 19/19 [00:07<00:00,  2.56it/s]\n",
      "100%|██████████| 3/3 [00:00<00:00,  3.31it/s]\n",
      "  0%|          | 0/19 [00:00<?, ?it/s]"
     ]
    },
    {
     "name": "stdout",
     "output_type": "stream",
     "text": [
      "Training Loss: 11.648595213890076\n",
      "Training Accuracy: 0.6621848739495798\n",
      "Validation Loss: 1.729421466588974\n",
      "Validation Accuracy: 0.7972972972972973\n"
     ]
    },
    {
     "name": "stderr",
     "output_type": "stream",
     "text": [
      "100%|██████████| 19/19 [00:07<00:00,  2.55it/s]\n",
      "100%|██████████| 3/3 [00:00<00:00,  3.27it/s]\n",
      "  0%|          | 0/19 [00:00<?, ?it/s]"
     ]
    },
    {
     "name": "stdout",
     "output_type": "stream",
     "text": [
      "Training Loss: 10.50377443432808\n",
      "Training Accuracy: 0.7563025210084033\n",
      "Validation Loss: 1.8555910885334015\n",
      "Validation Accuracy: 0.6891891891891891\n"
     ]
    },
    {
     "name": "stderr",
     "output_type": "stream",
     "text": [
      "100%|██████████| 19/19 [00:07<00:00,  2.55it/s]\n",
      "100%|██████████| 3/3 [00:00<00:00,  3.29it/s]\n",
      "  0%|          | 0/19 [00:00<?, ?it/s]"
     ]
    },
    {
     "name": "stdout",
     "output_type": "stream",
     "text": [
      "Training Loss: 10.41626313328743\n",
      "Training Accuracy: 0.746218487394958\n",
      "Validation Loss: 1.6419893503189087\n",
      "Validation Accuracy: 0.7297297297297297\n"
     ]
    },
    {
     "name": "stderr",
     "output_type": "stream",
     "text": [
      "100%|██████████| 19/19 [00:07<00:00,  2.55it/s]\n",
      "100%|██████████| 3/3 [00:00<00:00,  3.29it/s]\n",
      "  0%|          | 0/19 [00:00<?, ?it/s]"
     ]
    },
    {
     "name": "stdout",
     "output_type": "stream",
     "text": [
      "Training Loss: 9.824998170137405\n",
      "Training Accuracy: 0.7831932773109244\n",
      "Validation Loss: 1.5550594627857208\n",
      "Validation Accuracy: 0.8243243243243243\n"
     ]
    },
    {
     "name": "stderr",
     "output_type": "stream",
     "text": [
      "100%|██████████| 19/19 [00:07<00:00,  2.54it/s]\n",
      "100%|██████████| 3/3 [00:00<00:00,  3.30it/s]\n",
      "  0%|          | 0/19 [00:00<?, ?it/s]"
     ]
    },
    {
     "name": "stdout",
     "output_type": "stream",
     "text": [
      "Training Loss: 9.472046971321106\n",
      "Training Accuracy: 0.8084033613445378\n",
      "Validation Loss: 1.5928544998168945\n",
      "Validation Accuracy: 0.8108108108108109\n"
     ]
    },
    {
     "name": "stderr",
     "output_type": "stream",
     "text": [
      "100%|██████████| 19/19 [00:07<00:00,  2.55it/s]\n",
      "100%|██████████| 3/3 [00:00<00:00,  3.30it/s]\n",
      "  0%|          | 0/19 [00:00<?, ?it/s]"
     ]
    },
    {
     "name": "stdout",
     "output_type": "stream",
     "text": [
      "Training Loss: 9.464837193489075\n",
      "Training Accuracy: 0.8117647058823529\n",
      "Validation Loss: 1.3752563893795013\n",
      "Validation Accuracy: 0.8108108108108109\n"
     ]
    },
    {
     "name": "stderr",
     "output_type": "stream",
     "text": [
      "100%|██████████| 19/19 [00:07<00:00,  2.55it/s]\n",
      "100%|██████████| 3/3 [00:00<00:00,  3.31it/s]\n",
      "  0%|          | 0/19 [00:00<?, ?it/s]"
     ]
    },
    {
     "name": "stdout",
     "output_type": "stream",
     "text": [
      "Training Loss: 9.331190168857574\n",
      "Training Accuracy: 0.8151260504201681\n",
      "Validation Loss: 1.5002613067626953\n",
      "Validation Accuracy: 0.8243243243243243\n"
     ]
    },
    {
     "name": "stderr",
     "output_type": "stream",
     "text": [
      "100%|██████████| 19/19 [00:07<00:00,  2.55it/s]\n",
      "100%|██████████| 3/3 [00:00<00:00,  3.31it/s]\n",
      "  0%|          | 0/19 [00:00<?, ?it/s]"
     ]
    },
    {
     "name": "stdout",
     "output_type": "stream",
     "text": [
      "Training Loss: 8.586516618728638\n",
      "Training Accuracy: 0.8588235294117647\n",
      "Validation Loss: 1.243721604347229\n",
      "Validation Accuracy: 0.8648648648648649\n"
     ]
    },
    {
     "name": "stderr",
     "output_type": "stream",
     "text": [
      "100%|██████████| 19/19 [00:07<00:00,  2.54it/s]\n",
      "100%|██████████| 3/3 [00:00<00:00,  3.30it/s]\n",
      "  0%|          | 0/19 [00:00<?, ?it/s]"
     ]
    },
    {
     "name": "stdout",
     "output_type": "stream",
     "text": [
      "Training Loss: 8.327151209115982\n",
      "Training Accuracy: 0.8823529411764706\n",
      "Validation Loss: 1.3713842332363129\n",
      "Validation Accuracy: 0.8648648648648649\n"
     ]
    },
    {
     "name": "stderr",
     "output_type": "stream",
     "text": [
      "100%|██████████| 19/19 [00:07<00:00,  2.55it/s]\n",
      "100%|██████████| 3/3 [00:00<00:00,  3.29it/s]\n",
      "  0%|          | 0/19 [00:00<?, ?it/s]"
     ]
    },
    {
     "name": "stdout",
     "output_type": "stream",
     "text": [
      "Training Loss: 8.12370851635933\n",
      "Training Accuracy: 0.8890756302521008\n",
      "Validation Loss: 1.5266180038452148\n",
      "Validation Accuracy: 0.8108108108108109\n"
     ]
    },
    {
     "name": "stderr",
     "output_type": "stream",
     "text": [
      "100%|██████████| 19/19 [00:07<00:00,  2.55it/s]\n",
      "100%|██████████| 3/3 [00:00<00:00,  3.29it/s]\n",
      "  0%|          | 0/19 [00:00<?, ?it/s]"
     ]
    },
    {
     "name": "stdout",
     "output_type": "stream",
     "text": [
      "Training Loss: 8.548732042312622\n",
      "Training Accuracy: 0.8470588235294118\n",
      "Validation Loss: 1.2342082858085632\n",
      "Validation Accuracy: 0.8918918918918919\n"
     ]
    },
    {
     "name": "stderr",
     "output_type": "stream",
     "text": [
      "100%|██████████| 19/19 [00:07<00:00,  2.55it/s]\n",
      "100%|██████████| 3/3 [00:00<00:00,  3.30it/s]\n",
      "  0%|          | 0/19 [00:00<?, ?it/s]"
     ]
    },
    {
     "name": "stdout",
     "output_type": "stream",
     "text": [
      "Training Loss: 7.966724395751953\n",
      "Training Accuracy: 0.8873949579831932\n",
      "Validation Loss: 1.3181159794330597\n",
      "Validation Accuracy: 0.8648648648648649\n"
     ]
    },
    {
     "name": "stderr",
     "output_type": "stream",
     "text": [
      "100%|██████████| 19/19 [00:07<00:00,  2.55it/s]\n",
      "100%|██████████| 3/3 [00:00<00:00,  3.30it/s]\n",
      "  0%|          | 0/19 [00:00<?, ?it/s]"
     ]
    },
    {
     "name": "stdout",
     "output_type": "stream",
     "text": [
      "Training Loss: 7.956470161676407\n",
      "Training Accuracy: 0.9008403361344538\n",
      "Validation Loss: 1.1998901963233948\n",
      "Validation Accuracy: 0.8918918918918919\n"
     ]
    },
    {
     "name": "stderr",
     "output_type": "stream",
     "text": [
      "100%|██████████| 19/19 [00:07<00:00,  2.54it/s]\n",
      "100%|██████████| 3/3 [00:00<00:00,  3.27it/s]\n",
      "  0%|          | 0/19 [00:00<?, ?it/s]"
     ]
    },
    {
     "name": "stdout",
     "output_type": "stream",
     "text": [
      "Training Loss: 7.669515132904053\n",
      "Training Accuracy: 0.9126050420168067\n",
      "Validation Loss: 1.271812379360199\n",
      "Validation Accuracy: 0.918918918918919\n"
     ]
    },
    {
     "name": "stderr",
     "output_type": "stream",
     "text": [
      "100%|██████████| 19/19 [00:07<00:00,  2.55it/s]\n",
      "100%|██████████| 3/3 [00:00<00:00,  3.31it/s]\n",
      "  0%|          | 0/19 [00:00<?, ?it/s]"
     ]
    },
    {
     "name": "stdout",
     "output_type": "stream",
     "text": [
      "Training Loss: 8.222752004861832\n",
      "Training Accuracy: 0.8789915966386554\n",
      "Validation Loss: 1.2376285195350647\n",
      "Validation Accuracy: 0.8648648648648649\n"
     ]
    },
    {
     "name": "stderr",
     "output_type": "stream",
     "text": [
      "100%|██████████| 19/19 [00:07<00:00,  2.55it/s]\n",
      "100%|██████████| 3/3 [00:00<00:00,  3.29it/s]\n",
      "  0%|          | 0/19 [00:00<?, ?it/s]"
     ]
    },
    {
     "name": "stdout",
     "output_type": "stream",
     "text": [
      "Training Loss: 8.420585334300995\n",
      "Training Accuracy: 0.8621848739495799\n",
      "Validation Loss: 1.4003706574440002\n",
      "Validation Accuracy: 0.8648648648648649\n"
     ]
    },
    {
     "name": "stderr",
     "output_type": "stream",
     "text": [
      "100%|██████████| 19/19 [00:07<00:00,  2.54it/s]\n",
      "100%|██████████| 3/3 [00:00<00:00,  3.30it/s]\n",
      "  0%|          | 0/19 [00:00<?, ?it/s]"
     ]
    },
    {
     "name": "stdout",
     "output_type": "stream",
     "text": [
      "Training Loss: 8.277501821517944\n",
      "Training Accuracy: 0.8739495798319328\n",
      "Validation Loss: 1.242676019668579\n",
      "Validation Accuracy: 0.9054054054054054\n"
     ]
    },
    {
     "name": "stderr",
     "output_type": "stream",
     "text": [
      "100%|██████████| 19/19 [00:07<00:00,  2.55it/s]\n",
      "100%|██████████| 3/3 [00:00<00:00,  3.29it/s]\n",
      "  0%|          | 0/19 [00:00<?, ?it/s]"
     ]
    },
    {
     "name": "stdout",
     "output_type": "stream",
     "text": [
      "Training Loss: 7.359542936086655\n",
      "Training Accuracy: 0.9277310924369748\n",
      "Validation Loss: 1.185342788696289\n",
      "Validation Accuracy: 0.8918918918918919\n"
     ]
    },
    {
     "name": "stderr",
     "output_type": "stream",
     "text": [
      "100%|██████████| 19/19 [00:07<00:00,  2.55it/s]\n",
      "100%|██████████| 3/3 [00:00<00:00,  3.31it/s]\n",
      "  0%|          | 0/19 [00:00<?, ?it/s]"
     ]
    },
    {
     "name": "stdout",
     "output_type": "stream",
     "text": [
      "Training Loss: 7.076036632061005\n",
      "Training Accuracy: 0.9411764705882353\n",
      "Validation Loss: 1.26828333735466\n",
      "Validation Accuracy: 0.9054054054054054\n"
     ]
    },
    {
     "name": "stderr",
     "output_type": "stream",
     "text": [
      "100%|██████████| 19/19 [00:07<00:00,  2.54it/s]\n",
      "100%|██████████| 3/3 [00:00<00:00,  3.30it/s]\n",
      "  0%|          | 0/19 [00:00<?, ?it/s]"
     ]
    },
    {
     "name": "stdout",
     "output_type": "stream",
     "text": [
      "Training Loss: 7.219426721334457\n",
      "Training Accuracy: 0.9361344537815126\n",
      "Validation Loss: 1.2594977915287018\n",
      "Validation Accuracy: 0.8918918918918919\n"
     ]
    },
    {
     "name": "stderr",
     "output_type": "stream",
     "text": [
      "100%|██████████| 19/19 [00:07<00:00,  2.55it/s]\n",
      "100%|██████████| 3/3 [00:00<00:00,  3.30it/s]\n",
      "  0%|          | 0/19 [00:00<?, ?it/s]"
     ]
    },
    {
     "name": "stdout",
     "output_type": "stream",
     "text": [
      "Training Loss: 7.718283534049988\n",
      "Training Accuracy: 0.9025210084033614\n",
      "Validation Loss: 1.1660305559635162\n",
      "Validation Accuracy: 0.8918918918918919\n"
     ]
    },
    {
     "name": "stderr",
     "output_type": "stream",
     "text": [
      "100%|██████████| 19/19 [00:07<00:00,  2.55it/s]\n",
      "100%|██████████| 3/3 [00:00<00:00,  3.31it/s]\n",
      "  0%|          | 0/19 [00:00<?, ?it/s]"
     ]
    },
    {
     "name": "stdout",
     "output_type": "stream",
     "text": [
      "Training Loss: 6.989004224538803\n",
      "Training Accuracy: 0.9445378151260504\n",
      "Validation Loss: 1.1148005425930023\n",
      "Validation Accuracy: 0.9324324324324325\n"
     ]
    },
    {
     "name": "stderr",
     "output_type": "stream",
     "text": [
      "100%|██████████| 19/19 [00:07<00:00,  2.55it/s]\n",
      "100%|██████████| 3/3 [00:00<00:00,  3.31it/s]\n",
      "  0%|          | 0/19 [00:00<?, ?it/s]"
     ]
    },
    {
     "name": "stdout",
     "output_type": "stream",
     "text": [
      "Training Loss: 6.995737850666046\n",
      "Training Accuracy: 0.946218487394958\n",
      "Validation Loss: 1.2172255516052246\n",
      "Validation Accuracy: 0.918918918918919\n"
     ]
    },
    {
     "name": "stderr",
     "output_type": "stream",
     "text": [
      "100%|██████████| 19/19 [00:07<00:00,  2.54it/s]\n",
      "100%|██████████| 3/3 [00:00<00:00,  3.30it/s]\n",
      "  0%|          | 0/19 [00:00<?, ?it/s]"
     ]
    },
    {
     "name": "stdout",
     "output_type": "stream",
     "text": [
      "Training Loss: 7.291665881872177\n",
      "Training Accuracy: 0.9310924369747899\n",
      "Validation Loss: 1.1041294932365417\n",
      "Validation Accuracy: 0.9324324324324325\n"
     ]
    },
    {
     "name": "stderr",
     "output_type": "stream",
     "text": [
      "100%|██████████| 19/19 [00:07<00:00,  2.54it/s]\n",
      "100%|██████████| 3/3 [00:00<00:00,  3.31it/s]\n",
      "  0%|          | 0/19 [00:00<?, ?it/s]"
     ]
    },
    {
     "name": "stdout",
     "output_type": "stream",
     "text": [
      "Training Loss: 7.258395314216614\n",
      "Training Accuracy: 0.9327731092436975\n",
      "Validation Loss: 1.308337241411209\n",
      "Validation Accuracy: 0.8918918918918919\n"
     ]
    },
    {
     "name": "stderr",
     "output_type": "stream",
     "text": [
      "100%|██████████| 19/19 [00:07<00:00,  2.55it/s]\n",
      "100%|██████████| 3/3 [00:00<00:00,  3.31it/s]\n",
      "  0%|          | 0/19 [00:00<?, ?it/s]"
     ]
    },
    {
     "name": "stdout",
     "output_type": "stream",
     "text": [
      "Training Loss: 7.530590832233429\n",
      "Training Accuracy: 0.9159663865546218\n",
      "Validation Loss: 1.2128616869449615\n",
      "Validation Accuracy: 0.9054054054054054\n"
     ]
    },
    {
     "name": "stderr",
     "output_type": "stream",
     "text": [
      "100%|██████████| 19/19 [00:07<00:00,  2.55it/s]\n",
      "100%|██████████| 3/3 [00:00<00:00,  3.28it/s]\n",
      "  0%|          | 0/19 [00:00<?, ?it/s]"
     ]
    },
    {
     "name": "stdout",
     "output_type": "stream",
     "text": [
      "Training Loss: 7.028969168663025\n",
      "Training Accuracy: 0.9428571428571428\n",
      "Validation Loss: 1.1194079220294952\n",
      "Validation Accuracy: 0.918918918918919\n"
     ]
    },
    {
     "name": "stderr",
     "output_type": "stream",
     "text": [
      "100%|██████████| 19/19 [00:07<00:00,  2.55it/s]\n",
      "100%|██████████| 3/3 [00:00<00:00,  3.31it/s]\n",
      "  0%|          | 0/19 [00:00<?, ?it/s]"
     ]
    },
    {
     "name": "stdout",
     "output_type": "stream",
     "text": [
      "Training Loss: 7.310421705245972\n",
      "Training Accuracy: 0.9310924369747899\n",
      "Validation Loss: 1.5756721496582031\n",
      "Validation Accuracy: 0.7702702702702703\n"
     ]
    },
    {
     "name": "stderr",
     "output_type": "stream",
     "text": [
      "100%|██████████| 19/19 [00:07<00:00,  2.55it/s]\n",
      "100%|██████████| 3/3 [00:00<00:00,  3.31it/s]\n",
      "  0%|          | 0/19 [00:00<?, ?it/s]"
     ]
    },
    {
     "name": "stdout",
     "output_type": "stream",
     "text": [
      "Training Loss: 7.908705949783325\n",
      "Training Accuracy: 0.8907563025210085\n",
      "Validation Loss: 1.2174041271209717\n",
      "Validation Accuracy: 0.8918918918918919\n"
     ]
    },
    {
     "name": "stderr",
     "output_type": "stream",
     "text": [
      "100%|██████████| 19/19 [00:07<00:00,  2.55it/s]\n",
      "100%|██████████| 3/3 [00:00<00:00,  3.31it/s]\n",
      "  0%|          | 0/19 [00:00<?, ?it/s]"
     ]
    },
    {
     "name": "stdout",
     "output_type": "stream",
     "text": [
      "Training Loss: 8.488509356975555\n",
      "Training Accuracy: 0.8672268907563025\n",
      "Validation Loss: 1.4370496273040771\n",
      "Validation Accuracy: 0.8108108108108109\n"
     ]
    },
    {
     "name": "stderr",
     "output_type": "stream",
     "text": [
      "100%|██████████| 19/19 [00:07<00:00,  2.55it/s]\n",
      "100%|██████████| 3/3 [00:00<00:00,  3.31it/s]\n",
      "  0%|          | 0/19 [00:00<?, ?it/s]"
     ]
    },
    {
     "name": "stdout",
     "output_type": "stream",
     "text": [
      "Training Loss: 7.865685254335403\n",
      "Training Accuracy: 0.892436974789916\n",
      "Validation Loss: 1.2447011172771454\n",
      "Validation Accuracy: 0.8918918918918919\n"
     ]
    },
    {
     "name": "stderr",
     "output_type": "stream",
     "text": [
      "100%|██████████| 19/19 [00:07<00:00,  2.55it/s]\n",
      "100%|██████████| 3/3 [00:00<00:00,  3.30it/s]\n",
      "  0%|          | 0/19 [00:00<?, ?it/s]"
     ]
    },
    {
     "name": "stdout",
     "output_type": "stream",
     "text": [
      "Training Loss: 7.360965251922607\n",
      "Training Accuracy: 0.9243697478991597\n",
      "Validation Loss: 1.2254701852798462\n",
      "Validation Accuracy: 0.8918918918918919\n"
     ]
    },
    {
     "name": "stderr",
     "output_type": "stream",
     "text": [
      "100%|██████████| 19/19 [00:07<00:00,  2.55it/s]\n",
      "100%|██████████| 3/3 [00:00<00:00,  3.27it/s]\n",
      "  0%|          | 0/19 [00:00<?, ?it/s]"
     ]
    },
    {
     "name": "stdout",
     "output_type": "stream",
     "text": [
      "Training Loss: 7.312741935253143\n",
      "Training Accuracy: 0.9277310924369748\n",
      "Validation Loss: 1.102856993675232\n",
      "Validation Accuracy: 0.9324324324324325\n"
     ]
    },
    {
     "name": "stderr",
     "output_type": "stream",
     "text": [
      "100%|██████████| 19/19 [00:07<00:00,  2.55it/s]\n",
      "100%|██████████| 3/3 [00:00<00:00,  3.31it/s]\n",
      "  0%|          | 0/19 [00:00<?, ?it/s]"
     ]
    },
    {
     "name": "stdout",
     "output_type": "stream",
     "text": [
      "Training Loss: 6.982377529144287\n",
      "Training Accuracy: 0.9495798319327731\n",
      "Validation Loss: 1.269823044538498\n",
      "Validation Accuracy: 0.8918918918918919\n"
     ]
    },
    {
     "name": "stderr",
     "output_type": "stream",
     "text": [
      "100%|██████████| 19/19 [00:07<00:00,  2.55it/s]\n",
      "100%|██████████| 3/3 [00:00<00:00,  3.31it/s]\n",
      "  0%|          | 0/19 [00:00<?, ?it/s]"
     ]
    },
    {
     "name": "stdout",
     "output_type": "stream",
     "text": [
      "Training Loss: 7.593986511230469\n",
      "Training Accuracy: 0.9193277310924369\n",
      "Validation Loss: 1.1950437724590302\n",
      "Validation Accuracy: 0.918918918918919\n"
     ]
    },
    {
     "name": "stderr",
     "output_type": "stream",
     "text": [
      "100%|██████████| 19/19 [00:07<00:00,  2.53it/s]\n",
      "100%|██████████| 3/3 [00:00<00:00,  3.28it/s]\n",
      "  0%|          | 0/19 [00:00<?, ?it/s]"
     ]
    },
    {
     "name": "stdout",
     "output_type": "stream",
     "text": [
      "Training Loss: 7.911168873310089\n",
      "Training Accuracy: 0.8907563025210085\n",
      "Validation Loss: 1.1828024983406067\n",
      "Validation Accuracy: 0.918918918918919\n"
     ]
    },
    {
     "name": "stderr",
     "output_type": "stream",
     "text": [
      "100%|██████████| 19/19 [00:07<00:00,  2.54it/s]\n",
      "100%|██████████| 3/3 [00:00<00:00,  3.28it/s]"
     ]
    },
    {
     "name": "stdout",
     "output_type": "stream",
     "text": [
      "Training Loss: 7.087698310613632\n",
      "Training Accuracy: 0.9378151260504202\n",
      "Validation Loss: 1.1905656158924103\n",
      "Validation Accuracy: 0.8783783783783784\n"
     ]
    },
    {
     "name": "stderr",
     "output_type": "stream",
     "text": [
      "\n"
     ]
    }
   ],
   "source": [
    "epochs = 40\n",
    "optimizer = optim.Adam(model.parameters())\n",
    "scheduler = optim.lr_scheduler.CyclicLR(optimizer, base_lr=1e-3, max_lr=1e-2, cycle_momentum=False)\n",
    "criterion = nn.CrossEntropyLoss()\n",
    "#plot_train_loss, plot_val_loss, plot_train_acc, plot_val_acc\n",
    "history = train(model, train_loader, val_loader, optimizer, criterion, epochs, device = device, scheduler = scheduler)"
   ]
  },
  {
   "cell_type": "code",
   "execution_count": 8,
   "metadata": {},
   "outputs": [
    {
     "data": {
      "image/png": "[encoded data removed]",
      "text/plain": [
       "<Figure size 720x720 with 4 Axes>"
      ]
     },
     "metadata": {
      "needs_background": "light"
     },
     "output_type": "display_data"
    }
   ],
   "source": [
    "plot_train_val(history, epochs, (10, 10))"
   ]
  },
  {
   "cell_type": "code",
   "execution_count": 9,
   "metadata": {},
   "outputs": [
    {
     "data": {
      "text/plain": [
       "\"\\nmodel_dir = 'vgg16_B32_E20_lrcyclic.pth'\\n\\ncheckpoints = {\\n    'model' : model,\\n    'input_shape' : (224, 224, 3),\\n    'batch_size' : 32,\\n    'epochs' : 20,\\n    'train_acc' : 96.5,\\n    'val_acc' : 96,\\n    'state_dict' : model.state_dict()\\n}\\n\\ntorch.save(checkpoints, model_dir)\\n\""
      ]
     },
     "execution_count": 9,
     "metadata": {},
     "output_type": "execute_result"
    }
   ],
   "source": [
    "'''\n",
    "model_dir = 'vgg16_B32_E20_lrcyclic.pth'\n",
    "\n",
    "checkpoints = {\n",
    "    'model' : model,\n",
    "    'input_shape' : (224, 224, 3),\n",
    "    'batch_size' : 32,\n",
    "    'epochs' : 20,\n",
    "    'train_acc' : 96.5,\n",
    "    'val_acc' : 96,\n",
    "    'state_dict' : model.state_dict()\n",
    "}\n",
    "\n",
    "torch.save(checkpoints, model_dir)\n",
    "'''"
   ]
  },
  {
   "cell_type": "code",
   "execution_count": null,
   "metadata": {},
   "outputs": [],
   "source": []
  }
 ],
 "metadata": {
  "kernelspec": {
   "display_name": "Python 3",
   "language": "python",
   "name": "python3"
  },
  "language_info": {
   "codemirror_mode": {
    "name": "ipython",
    "version": 3
   },
   "file_extension": ".py",
   "mimetype": "text/x-python",
   "name": "python",
   "nbconvert_exporter": "python",
   "pygments_lexer": "ipython3",
   "version": "3.7.6"
  }
 },
 "nbformat": 4,
 "nbformat_minor": 4
}
